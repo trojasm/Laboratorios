{
  "nbformat": 4,
  "nbformat_minor": 0,
  "metadata": {
    "colab": {
      "provenance": []
    },
    "kernelspec": {
      "name": "python3",
      "display_name": "Python 3"
    }
  },
  "cells": [
    {
      "cell_type": "markdown",
      "metadata": {
        "id": "4Gb04XWVHDB6"
      },
      "source": [
        "# **Quiz 1 - Python NumPy**\n",
        "---\n",
        "This quiz will help you practice the skills coding in Python and using Numpy.\n",
        "\n",
        "> **Note:** This aquiz will be graded on **UNCode** **[https://uncode.unal.edu.co/](https://uncode.unal.edu.co/)** ([doumentation](https://juezun.github.io/)). In each exercise is indicated where you should write your code. Complete the code, download the file submit it in **UNCode**."
      ]
    },
    {
      "cell_type": "code",
      "metadata": {
        "id": "875DsJCur8zB",
        "colab": {
          "base_uri": "https://localhost:8080/"
        },
        "outputId": "17ecc7f8-fb69-4e22-ad5d-98e0d4ee34c8"
      },
      "source": [
        "!python --version\n",
        "import numpy as np\n",
        "\n",
        "print('NumPy', np.__version__)"
      ],
      "execution_count": 21,
      "outputs": [
        {
          "output_type": "stream",
          "name": "stdout",
          "text": [
            "Python 3.8.10\n",
            "NumPy 1.22.4\n"
          ]
        }
      ]
    },
    {
      "cell_type": "markdown",
      "metadata": {
        "id": "Xyl5fF0zr9r4"
      },
      "source": [
        "This quiz was created originaly in:\n",
        "\n",
        "- Python 3.6.9\n",
        "\n",
        "- NumPy: 1.19.5"
      ]
    },
    {
      "cell_type": "markdown",
      "source": [
        "## **1. *FizzBuzz*  - Python**"
      ],
      "metadata": {
        "id": "rN2shbVJV7-S"
      }
    },
    {
      "cell_type": "markdown",
      "metadata": {
        "id": "aq3HM6YEMIxM"
      },
      "source": [
        "---\n",
        "*FizzBuzz* is a popular computer programming exercise based on the concept of divisibility of integers. \n",
        "\n",
        ">An integer $x$ is divisible by $m$ when $x$ is a multiple of $m$. That is, when the remainder of dividing $x$ by $m$ is $0$.\n",
        "\n",
        "A way to verify that $x$ is divisible by $m$  to check if the module (remaimder of the integer divison) is equal to $0$, in Pyhton is:\n",
        "\n",
        "```python\n",
        "x % m == 0 # % module (remaimder of the integer divison)\n",
        "```"
      ]
    },
    {
      "cell_type": "markdown",
      "source": [
        "---\n",
        "\n",
        "###**Problem Description**\n",
        "\n",
        "**Task:** Given an integer $x$ return:\n",
        " \n",
        "\n",
        "*   The string \"**`Fizz!`**\" if $x$ is divisible by $3$ and not  divisible by $5$.\n",
        "*    The string \"**`Buzz!`**\" if $x$ is divisible by $5$ and not  divisible by $3$.\n",
        "*    The string \"**`FizzBuzz!`**\" if $x$ is divisible by both $5$ and divisible by $3$.\n",
        "*    The string \"**`...`**\" otherwise.\n",
        "\n",
        "**Input Format:** The input consists of a single integer $x$. \n",
        "\n",
        "**Constraints:** $x$ is an integer\n",
        "\n",
        "**Output Format:**  the output is a string."
      ],
      "metadata": {
        "id": "l8vwLDS8OMdp"
      }
    },
    {
      "cell_type": "markdown",
      "source": [
        "**Sample testcases**\n",
        "\n",
        "```python\n",
        "#run this sample testcases to help you validate your solution\n",
        "\n",
        "FizzBuzz(3)\n",
        "\n",
        "#  --> Expected output: Fizz!\n",
        "\n",
        "FizzBuzz(11)\n",
        "\n",
        "#  --> Expected output: ...\n",
        "\n",
        "FizzBuzz(5)\n",
        "#  --> Expected output: Buzz!\n",
        "\n",
        "FizzBuzz(7)\n",
        "#  --> Expected output:...\n",
        "\n",
        "FizzBuzz(15)\n",
        "#  --> Expected output: FizzBuzz!\n",
        "```\n",
        "\n",
        "---"
      ],
      "metadata": {
        "id": "seLwJoVTPqMb"
      }
    },
    {
      "cell_type": "markdown",
      "source": [
        "**Solution**"
      ],
      "metadata": {
        "id": "BX8ejJrpQdgb"
      }
    },
    {
      "cell_type": "code",
      "source": [
        "#Do not change this function's name, parameters or output format. It will be used in automatic grading.\n",
        "def FizzBuzz(x):\n",
        "    if x % 3 == 0 and (x % 5 == 0):\n",
        "      answer = \"FizzBuzz!\"\n",
        "    elif x % 3 == 0:\n",
        "      answer = \"Fizz!\"  \n",
        "    elif x % 5 == 0:\n",
        "      answer = \"Buzz!\"  \n",
        "    else:  \n",
        "        answer =\"...\"\n",
        "    return answer\n"
      ],
      "metadata": {
        "id": "4kkesp9PQisR"
      },
      "execution_count": 22,
      "outputs": []
    },
    {
      "cell_type": "markdown",
      "metadata": {
        "id": "BA-nbOmnPYl6"
      },
      "source": [
        "<details>    \n",
        "<summary>\n",
        "    <font size=\"3\" color=\"darkgreen\"><b>Verification cases </b></font>\n",
        "</summary>\n"
      ]
    },
    {
      "cell_type": "code",
      "metadata": {
        "id": "xicbXt1uYDDt",
        "colab": {
          "base_uri": "https://localhost:8080/"
        },
        "outputId": "dff9c471-2346-4b32-e2b1-e48ba5a88ceb"
      },
      "source": [
        "print(FizzBuzz(3))\n",
        "print(FizzBuzz(7))\n",
        "print(FizzBuzz(5))\n",
        "print(FizzBuzz(11))\n",
        "print(FizzBuzz(15))"
      ],
      "execution_count": 23,
      "outputs": [
        {
          "output_type": "stream",
          "name": "stdout",
          "text": [
            "Fizz!\n",
            "...\n",
            "Buzz!\n",
            "...\n",
            "FizzBuzz!\n"
          ]
        }
      ]
    },
    {
      "cell_type": "markdown",
      "metadata": {
        "id": "gS8eqbf4X2Am"
      },
      "source": [
        "Expected output:\n",
        "``` \n",
        "Fizz!\n",
        "...\n",
        "Buzz!\n",
        "...\n",
        "FizzBuzz!\n",
        "```"
      ]
    },
    {
      "cell_type": "markdown",
      "metadata": {
        "id": "HwSDMxzDMWMF"
      },
      "source": [
        "## **2. *FizzBuzzList*  - Python**\n",
        "---\n",
        "\n",
        "Write the function *FizzBuzzList* that returns a list with the answers of *FizzBuzz* for the integer numbers $1$ to $n$ (including $n$)."
      ]
    },
    {
      "cell_type": "markdown",
      "source": [
        "---\n",
        "\n",
        "###**Problem Description**\n",
        "\n",
        "**Task:** Given an integer $n$ return the list with the *FizzBuzz* answers for the integer numbers $1$ to $n$ (including $n$).\n",
        "  \n",
        "\n",
        "**Input Format:** The input consists of a single integer $n$. \n",
        "\n",
        "**Constraints:** $n$ is an integer\n",
        "\n",
        "**Output Format:**  list with the *FizzBuzz* answers, if the input is not positive return an empty list."
      ],
      "metadata": {
        "id": "KCPEZwq6XZcC"
      }
    },
    {
      "cell_type": "markdown",
      "source": [
        "**Sample testcases**\n",
        "\n",
        "```python\n",
        "#run this sample testcases to help you validate your solution\n",
        "\n",
        "FizzBuzzList(4)\n",
        "#  --> Expected output: ['...', '...', 'Fizz!', '...']\n",
        " \n",
        "FizzBuzzList(-1)\n",
        "#  --> Expected output: []\n",
        "```\n",
        "---"
      ],
      "metadata": {
        "id": "MbjrKp6ZYOUq"
      }
    },
    {
      "cell_type": "markdown",
      "source": [
        "**Solution**"
      ],
      "metadata": {
        "id": "O-OLGB5BZIQq"
      }
    },
    {
      "cell_type": "code",
      "source": [
        "#Do not change this function's name, parameters or output format. It will be used in automatic grading.\n",
        "def FizzBuzzList(n):\n",
        "    ans = []\n",
        "    for i in range(n):\n",
        "      ans.append(FizzBuzz(i+1))\n",
        "    return ans"
      ],
      "metadata": {
        "id": "dIYchJvEZMEJ"
      },
      "execution_count": 24,
      "outputs": []
    },
    {
      "cell_type": "markdown",
      "source": [
        "<details>    \n",
        "<summary>\n",
        "    <font size=\"3\" color=\"darkgreen\"><b>Verification cases </b></font>\n",
        "</summary>"
      ],
      "metadata": {
        "id": "P0-XPf1xZokq"
      }
    },
    {
      "cell_type": "code",
      "source": [
        "print(FizzBuzzList(5))\n",
        "print(FizzBuzzList(-30))"
      ],
      "metadata": {
        "id": "4EXUbJmJZxPq",
        "colab": {
          "base_uri": "https://localhost:8080/"
        },
        "outputId": "d6c634e9-6499-4c9c-be17-8b3ddc4b965d"
      },
      "execution_count": 25,
      "outputs": [
        {
          "output_type": "stream",
          "name": "stdout",
          "text": [
            "['...', '...', 'Fizz!', '...', 'Buzz!']\n",
            "[]\n"
          ]
        }
      ]
    },
    {
      "cell_type": "markdown",
      "source": [
        "Expected output:\n",
        "``` \n",
        "['...', '...', 'Fizz!', '...', 'Buzz!']\n",
        "[]\n",
        "```"
      ],
      "metadata": {
        "id": "rybnp7wcZu_K"
      }
    },
    {
      "cell_type": "markdown",
      "source": [
        "## **3. *Standarize* - z scores - NumPy**"
      ],
      "metadata": {
        "id": "6Yepp3PEoPjA"
      }
    },
    {
      "cell_type": "markdown",
      "source": [
        "\n",
        "---\n",
        "### Normalization (Statistics)\n",
        "In statistics and applications of statistics, normalization can have a range of meanings. In the simplest cases, normalization of ratings means adjusting values measured on different scales to a notionally common scale, often prior to averaging. In more complicated cases, normalization may refer to more sophisticated adjustments where the intention is to bring the entire probability distributions of adjusted values into alignment. In the case of normalization of scores in educational assessment, there may be an intention to align distributions to a normal distribution ([wikipedia](https://en.wikipedia.org/wiki/Normalization_(statistics))).\n",
        "\n",
        "### Standard score\n",
        "In statistics, the standard score is the number of standard deviations by which the value of a raw score (i.e., an observed value or data point) is above or below the mean value of what is being observed or measured([wikipedia](https://en.wikipedia.org/wiki/Standard_score)).\n",
        "\n",
        "Given a set of values $X=\\{x_1,x_2,\\cdots,x_n\\}$  the corresponding standard scores $z_i$ are defined as \n",
        "$$z_i = \\frac{x_i - \\mu_X}{\\sigma_X}$$\n",
        "where:\n",
        "\n",
        "  - $\\mu_X$ is the mean of the values $X=\\{x_1,x_2,\\cdots,x_n\\}$,\n",
        "  -$\\sigma_X$ is the of the values $X=\\{x_1,x_2,\\cdots,x_n\\}$.\n"
      ],
      "metadata": {
        "id": "XZN9NSI4eAOi"
      }
    },
    {
      "cell_type": "markdown",
      "source": [
        "**IMPORTANT:** Solve this exercise using the ***`NumPy`*** functions ***`mean`*** and ***`std`*** not using prograrmming structures like ***`if`*** or ***`for`***."
      ],
      "metadata": {
        "id": "W8J-661cl5-Z"
      }
    },
    {
      "cell_type": "code",
      "source": [
        "import numpy as np\n",
        "\n",
        "X = np.array([1.2,3.2,4.3,5.6])\n",
        "print(X.mean())\n",
        "print(X.std())"
      ],
      "metadata": {
        "colab": {
          "base_uri": "https://localhost:8080/"
        },
        "id": "PZnHitR4lrMh",
        "outputId": "45bfa2b0-f873-46ee-91a0-66a979c971f8"
      },
      "execution_count": null,
      "outputs": [
        {
          "output_type": "stream",
          "name": "stdout",
          "text": [
            "3.5749999999999997\n",
            "1.6130328576938535\n"
          ]
        }
      ]
    },
    {
      "cell_type": "markdown",
      "source": [
        "---\n",
        "\n",
        "###**Problem Description**\n",
        "\n",
        "**Task:** Given an numpy array $X$ return the corresponding standard scores.\n",
        "  \n",
        "**Input Format:** The input consists of a numpy array $X$. \n",
        "\n",
        "**Output Format:**  A numpy array with standard scores corresponding to $X$."
      ],
      "metadata": {
        "id": "XT89Dri7gIJ4"
      }
    },
    {
      "cell_type": "markdown",
      "source": [
        "**Sample testcases**\n",
        "\n",
        "```python\n",
        "#run this sample testcases to help you validate your solution\n",
        "\n",
        "X0 = np.array([4.8, 4.0, 4.2, 4.0, 5.0])\n",
        "standarize(X0)\n",
        "\n",
        "#  --> Expected output: array([ 0.95346259, -0.95346259, -0.47673129, -0.95346259,  1.43019388])\n",
        "\n",
        "X1 = np.arange(5)\n",
        "standarize(X1)\n",
        "\n",
        "#  --> Expected output: array([-1.41421356, -0.70710678,  0.        ,  0.70710678,  1.41421356])\n",
        "\n",
        "```\n",
        "---"
      ],
      "metadata": {
        "id": "6N0JF_0-m_AB"
      }
    },
    {
      "cell_type": "markdown",
      "source": [
        "**Solution**"
      ],
      "metadata": {
        "id": "frfaDDj0k7tJ"
      }
    },
    {
      "cell_type": "code",
      "source": [
        "#Do not change this function's name, parameters or output format. It will be used in automatic grading.\n",
        "\n",
        "import numpy as np\n",
        "\n",
        "def standarize(X):\n",
        "  X_standarized = (X-X.mean())/X.std()\n",
        "  return X_standarized"
      ],
      "metadata": {
        "id": "vUf0_xqXgHSj"
      },
      "execution_count": 7,
      "outputs": []
    },
    {
      "cell_type": "code",
      "source": [
        "X0 = np.array([4.8, 4.0, 4.2, 4.0, 5.0])\n",
        "standarize(X0)"
      ],
      "metadata": {
        "colab": {
          "base_uri": "https://localhost:8080/"
        },
        "id": "Rh0j45LdalUS",
        "outputId": "92f26a8d-d9f9-49aa-d4df-8cd23931fc1b"
      },
      "execution_count": 8,
      "outputs": [
        {
          "output_type": "execute_result",
          "data": {
            "text/plain": [
              "array([ 0.95346259, -0.95346259, -0.47673129, -0.95346259,  1.43019388])"
            ]
          },
          "metadata": {},
          "execution_count": 8
        }
      ]
    },
    {
      "cell_type": "code",
      "source": [
        "X1 = np.arange(5)\n",
        "standarize(X1)"
      ],
      "metadata": {
        "colab": {
          "base_uri": "https://localhost:8080/"
        },
        "id": "vhtnsfhOaulb",
        "outputId": "70696005-068f-4ace-c008-0c045153ee60"
      },
      "execution_count": 9,
      "outputs": [
        {
          "output_type": "execute_result",
          "data": {
            "text/plain": [
              "array([-1.41421356, -0.70710678,  0.        ,  0.70710678,  1.41421356])"
            ]
          },
          "metadata": {},
          "execution_count": 9
        }
      ]
    },
    {
      "cell_type": "markdown",
      "source": [
        "## **4. *Main diagonal matrix*  - NumPy**"
      ],
      "metadata": {
        "id": "4GU-LwecnqCR"
      }
    },
    {
      "cell_type": "code",
      "source": [
        "t = [array([], dtype=float64), array([nan]), array([-1.,  1.]), array([-1.22474487,  0.        ,  1.22474487]), array([-1.34164079, -0.4472136 ,  0.4472136 ,  1.34164079]), array([-1.41421356, -0.70710678,  0.        ,  0.70710678,  1.41421356]), array([-1.46385011, -0.87831007, -0.29277002,  0.29277002,  0.87831007,\n",
        "        1.46385011]), array([-1.5, -1. , -0.5,  0. ,  0.5,  1. ,  1.5]), array([-1.52752523, -1.09108945, -0.65465367, -0.21821789,  0.21821789,\n",
        "        0.65465367,  1.09108945,  1.52752523]), array([-1.54919334, -1.161895  , -0.77459667, -0.38729833,  0.        ,\n",
        "        0.38729833,  0.77459667,  1.161895  ,  1.54919334])]"
      ],
      "metadata": {
        "id": "C9N6KoIhlA6M"
      },
      "execution_count": null,
      "outputs": []
    },
    {
      "cell_type": "markdown",
      "source": [
        "Examples:\n",
        "\n",
        "* **$n$ = $m$**\n",
        "$$\\begin{bmatrix}\n",
        "1 & 0 & 2\\\\ \n",
        "9 & 2 & 6 \\\\ \n",
        "6 & 4 & 3 \n",
        "\\end{bmatrix} \\rightarrow\n",
        "\\begin{bmatrix}\n",
        "\\mathbf{1} & 0 & 0 \\\\ \n",
        "0 & \\mathbf{2 }& 0 \\\\ \n",
        "0 & 0 & \\boldsymbol{\\mathbf{}3 }\n",
        "\\end{bmatrix}$$\n",
        "\n",
        "* **$n$ < $m$**\n",
        "$$\\begin{bmatrix}\n",
        "1 & 0 & 2 & 9 & 2\\\\ \n",
        "9 & 2 & 6 & 5 & 7\\\\ \n",
        "6 & 4 & 3 & 4 & 7\n",
        "\\end{bmatrix} \\rightarrow\n",
        "\\begin{bmatrix}\n",
        "\\mathbf{1} & 0 & 0 \\\\ \n",
        "0 & \\mathbf{2 }& 0 \\\\ \n",
        "0 & 0 & \\boldsymbol{\\mathbf{}3 }\n",
        "\\end{bmatrix}$$\n",
        "\n",
        "* **$n$ > $m$**\n",
        "$$\\begin{bmatrix}\n",
        "1 & 0 & 2\\\\ \n",
        "9 & 2 & 6 \\\\ \n",
        "6 & 4 & 3 \\\\ \n",
        "1 & 0 & 5\n",
        "\\end{bmatrix} \\rightarrow\n",
        "\\begin{bmatrix}\n",
        "\\mathbf{1} & 0 & 0 \\\\ \n",
        "0 & \\mathbf{2 }& 0 \\\\ \n",
        "0 & 0 & \\boldsymbol{\\mathbf{}3 }\n",
        "\\end{bmatrix}$$\n"
      ],
      "metadata": {
        "id": "-_64gk01tykQ"
      }
    },
    {
      "cell_type": "markdown",
      "source": [
        "**IMPORTANT:** Solve this exercise using the ***`NumPy`*** function ***`diag`***  and ***`astype`*** not using prograrmming structures like ***`if`*** or ***`for`***."
      ],
      "metadata": {
        "id": "AbqTfmPMuir4"
      }
    },
    {
      "cell_type": "code",
      "source": [
        "import numpy as np\n",
        "A = np.array([\n",
        "    [1, 0, 2, 9, 2],\n",
        "    [9, 2, 6, 5, 7],\n",
        "    [6, 4, 3, 4, 7]\n",
        "    \n",
        "])\n",
        "\n",
        "print(A.astype(float))\n",
        "\n",
        "print(np.diag(A))\n",
        "\n",
        "print(np.diag(np.diag(A)))"
      ],
      "metadata": {
        "colab": {
          "base_uri": "https://localhost:8080/"
        },
        "id": "H8jtLvpMuvep",
        "outputId": "ce222048-e4ef-43b8-eaa7-22e656ded09c"
      },
      "execution_count": 19,
      "outputs": [
        {
          "output_type": "stream",
          "name": "stdout",
          "text": [
            "[[1. 0. 2. 9. 2.]\n",
            " [9. 2. 6. 5. 7.]\n",
            " [6. 4. 3. 4. 7.]]\n",
            "[1 2 3]\n",
            "[[1 0 0]\n",
            " [0 2 0]\n",
            " [0 0 3]]\n"
          ]
        }
      ]
    },
    {
      "cell_type": "markdown",
      "source": [
        "---\n",
        "\n",
        "###**Problem Description**\n",
        "\n",
        "**Task:** Given a numpy matrix $A$ (2-D array) return the diagonal matrix with the elements of its main diagonal.\n",
        " \n",
        "\n",
        "**Input Format:** The input consists of a numpy matrix $A$ (2-D array).\n",
        "\n",
        "**Output Format:**  The diagonal matrix with the elemnts of its main diagonal."
      ],
      "metadata": {
        "id": "9GfUMP5vsawZ"
      }
    },
    {
      "cell_type": "markdown",
      "source": [
        "**Sample testcases**\n",
        "\n",
        "```python\n",
        "#run this sample testcases to help you validate your solution\n",
        "\n",
        "A = np.array([\n",
        "    [1, 0, 2, 9, 2],\n",
        "    [9, 2, 6, 5, 7],\n",
        "    [6, 4, 3, 4, 7]\n",
        "    \n",
        "])\n",
        "main_diagonal_matrix(A)\n",
        "#  --> Expected output: \n",
        "array([[1., 0., 0.],\n",
        "       [0., 2., 0.],\n",
        "       [0., 0., 3.]])\n",
        "\n",
        "A = np.array([\n",
        "    [4, 0, 2],\n",
        "    [9, 5, 6],\n",
        "    [1, 9, 6],\n",
        "    [3, 0, 5]\n",
        "    \n",
        "])\n",
        "main_diagonal_matrix(A)\n",
        "#  --> Expected output: \n",
        "array([[4., 0., 0.],\n",
        "       [0., 5., 0.],\n",
        "       [0., 0., 6.]])\n",
        "```\n",
        "---"
      ],
      "metadata": {
        "id": "nG7hzC4JtrvZ"
      }
    },
    {
      "cell_type": "code",
      "source": [
        "#Do not change this function's name, parameters or output format. It will be used in automatic grading.\n",
        "\n",
        "import numpy as np\n",
        "\n",
        "def main_diagonal_matrix(A):\n",
        "  D = np.diag(np.diag(A)).astype(float)\n",
        "  return D"
      ],
      "metadata": {
        "id": "thogtwflo6-x"
      },
      "execution_count": 11,
      "outputs": []
    },
    {
      "cell_type": "code",
      "source": [
        "A = np.array([\n",
        "    [1, 0, 2, 9, 2],\n",
        "    [9, 2, 6, 5, 7],\n",
        "    [6, 4, 3, 4, 7]\n",
        "\n",
        "])\n",
        "main_diagonal_matrix(A)"
      ],
      "metadata": {
        "colab": {
          "base_uri": "https://localhost:8080/"
        },
        "id": "cpH1bScVbvWv",
        "outputId": "234e53a5-e082-4af2-a4de-2099514015d2"
      },
      "execution_count": 17,
      "outputs": [
        {
          "output_type": "execute_result",
          "data": {
            "text/plain": [
              "array([[1., 0., 0.],\n",
              "       [0., 2., 0.],\n",
              "       [0., 0., 3.]])"
            ]
          },
          "metadata": {},
          "execution_count": 17
        }
      ]
    },
    {
      "cell_type": "code",
      "source": [
        "A = np.array([\n",
        "    [4, 0, 2],\n",
        "    [9, 5, 6],\n",
        "    [1, 9, 6],\n",
        "    [3, 0, 5]\n",
        "\n",
        "])\n",
        "main_diagonal_matrix(A)"
      ],
      "metadata": {
        "colab": {
          "base_uri": "https://localhost:8080/"
        },
        "id": "MztxgmkEcWJR",
        "outputId": "59d7afd8-d93e-4730-d1a5-1b5860c4e5ad"
      },
      "execution_count": 18,
      "outputs": [
        {
          "output_type": "execute_result",
          "data": {
            "text/plain": [
              "array([[4., 0., 0.],\n",
              "       [0., 5., 0.],\n",
              "       [0., 0., 6.]])"
            ]
          },
          "metadata": {},
          "execution_count": 18
        }
      ]
    },
    {
      "cell_type": "markdown",
      "metadata": {
        "id": "4Igf_jPe3yBd"
      },
      "source": [
        "**¡Congratulations!** You have finished your first quiz.\n",
        "\n"
      ]
    },
    {
      "cell_type": "markdown",
      "metadata": {
        "id": "QETcLEiG3yBs"
      },
      "source": [
        "## **Credits**\n",
        "Created by \n",
        "  - German Hernandez\n",
        "  - Oscar Fabian Sierra Daza\n",
        "  \n",
        "Modifying quizzes originaly created by\n",
        "  - Felipe Restrepo Calle\n",
        "  - Alberto Nicolai Romero Martínez\n",
        "  - Miguel Angel Ortiz Marín\n"
      ]
    }
  ]
}
