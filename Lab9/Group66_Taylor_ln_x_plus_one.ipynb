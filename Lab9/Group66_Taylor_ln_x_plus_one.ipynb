{
  "nbformat": 4,
  "nbformat_minor": 0,
  "metadata": {
    "colab": {
      "provenance": [],
      "include_colab_link": true
    },
    "kernelspec": {
      "name": "python3",
      "display_name": "Python 3"
    },
    "language_info": {
      "name": "python"
    }
  },
  "cells": [
    {
      "cell_type": "markdown",
      "metadata": {
        "id": "view-in-github",
        "colab_type": "text"
      },
      "source": [
        "<a href=\"https://colab.research.google.com/github/trojasm/MetNumUN2023I/blob/main/Lab9/Group66_Taylor_ln_x_plus_one.ipynb\" target=\"_parent\"><img src=\"https://colab.research.google.com/assets/colab-badge.svg\" alt=\"Open In Colab\"/></a>"
      ]
    },
    {
      "cell_type": "markdown",
      "metadata": {
        "id": "ZuGY2wUTjFDm"
      },
      "source": [
        "# Taylor series of $e^x$\n",
        "\n",
        "$$ \n",
        "\\begin{array}{lll}\n",
        "e^{ x}  & =  & \\sum_{i=0}^{\\infty} \\frac{x^i}{i!} \\\\\n",
        "        & = & 1 + x + \\frac{x^2}{2!} + \\frac{x^3}{3!} +\\cdots+ \\frac{x^n}{n!} + \\cdots  \\\\\n",
        "       & = & 1 + x + \\frac{x^2}{2!} +  \\frac{x^3}{3!}  \\cdots+ \\frac{x^n}{n!} + O(x^{n+1}) \n",
        "\\end{array} \n",
        "$$\n",
        "\n",
        "\n",
        "Approximation \n",
        "$$ e^{ x}  \\approx 1 + x + \\frac{x^2}{2!} + + \\frac{x^3}{3!}  + \\cdots+ \\frac{x^n}{n!}$$\n"
      ]
    },
    {
      "cell_type": "markdown",
      "source": [
        "Interact code in Sagemath for $e^x$\n",
        "\n",
        "```python\n",
        "# Interact Taylor Series of $$f(x) = e^x$$\n",
        "# Explanatory example: Taylor Series – wiki.sagemath.org/interact https://wiki.sagemath.org/interact\n",
        "x   = SR.var('x')\n",
        "x0  = 0\n",
        "f   = e^(x)\n",
        "p   = plot(f, -20, 20, thickness=2)\n",
        "dot = point((x0, f(x=x0)), pointsize=80, rgbcolor=(1, 0, 0))\n",
        "\n",
        "@interact\n",
        "def _(order=slider([0 .. 12])):\n",
        "  ft = f.taylor(x, x0, order)\n",
        "  pt = plot(ft, -20, 20, color='green', thickness=2)\n",
        "  pretty_print(html(r'$f(x)\\;=\\;%s$' % latex(f)))\n",
        "  pretty_print(html(r'$\\hat{f}(x;%s)\\;=\\;%s+\\mathcal{O}(x^{%s})$' % (x0, latex(ft), order+1)))\n",
        "  show(dot + p + pt, ymin=-1, ymax=10)\n",
        "```"
      ],
      "metadata": {
        "id": "eFh_HdXmjdfu"
      }
    },
    {
      "cell_type": "markdown",
      "source": [
        "Animate code in Sagemath for $e^x$\n",
        "```python\n",
        "# Animate  Taylor Series of $$f(x) = e^x$$\n",
        "# MCS 320: Introduction to Symbolic Computation - Jan Verschelde, Mathematics, U. Illinois at Chicago  –\n",
        "# http://homepages.math.uic.edu/~jan/mcs320/mcs320notes/lec27.html#\n",
        "x   = SR.var('x')\n",
        "x0  = 0\n",
        "f   = e^(x)\n",
        "p   = plot(f, -3, 3, thickness=2,legend_label='f(x) = e^x')\n",
        "dot = point((x0, f(x=x0)), pointsize=80, rgbcolor=(1, 0, 0))\n",
        "ptaylor = [plot(f.taylor(x, x0, order), -3,3, color='green', thickness=2, legend_label= \"Taylor \" + str(order) +\": \"+ str(f.taylor(x, x0, order))) for order in range(5)]\n",
        "\n",
        "frames = [p+dot+ptaylor[int(order/12)] for order in range(60)]\n",
        "a = animate(frames, ymin=-10, ymax=10)\n",
        "a.show()\n",
        "a.save('e_to_x_taylor_animation_1.gif')\n",
        "```"
      ],
      "metadata": {
        "id": "y90QDm3UkzaF"
      }
    },
    {
      "cell_type": "markdown",
      "source": [
        " ![Taylor gif](https://raw.githubusercontent.com/gjhernandezp/NM/main/Taylor%20Series/e_to_x_taylor_animation_1.gif)"
      ],
      "metadata": {
        "id": "c_Hz3jQijj8H"
      }
    },
    {
      "cell_type": "markdown",
      "source": [
        " ![Taylor gif](https://raw.githubusercontent.com/gjhernandezp/NM/main/Taylor%20Series/e_to_x_taylor_animation_2.gif)"
      ],
      "metadata": {
        "id": "Gh89PrFBjlBu"
      }
    },
    {
      "cell_type": "markdown",
      "metadata": {
        "id": "qylNUuxmQUzq"
      },
      "source": [
        "#What is value of the partial Taylor series of $e^x$ up to the  $10$-th term of $e^x$ about $0$ (Maclaurin  series) for $x=2$\n",
        "\n",
        "$$ e^{ x} \\approx \\sum_{i=1}^{n} \\frac{x^i}{i!}  = 1 + x + \\frac{x^2}{2!}+\\cdots+ \\frac{x^n}{n!}$$"
      ]
    },
    {
      "cell_type": "code",
      "metadata": {
        "colab": {
          "base_uri": "https://localhost:8080/"
        },
        "id": "UZyEw-hiQNU7",
        "outputId": "ec12f89c-b02f-4c31-a13c-87f1ea344a4d"
      },
      "source": [
        "# ∑_{i=0}^n  x^i/i\n",
        "\n",
        "import math\n",
        "\n",
        "n = 10\n",
        "x = 2\n",
        "e_to_x = 0\n",
        "\n",
        "for i in range(n+1):\n",
        "    e_to_x += x**i/math.factorial(i) \n",
        "    print(i, 'e_to_x ≈ ∑_{i=0}^'+str(i),'x^i/i! =',e_to_x)  \n",
        "    \n",
        "print('math.exp(x) = ',math.exp(x))"
      ],
      "execution_count": 1,
      "outputs": [
        {
          "output_type": "stream",
          "name": "stdout",
          "text": [
            "0 e_to_x ≈ ∑_{i=0}^0 x^i/i! = 1.0\n",
            "1 e_to_x ≈ ∑_{i=0}^1 x^i/i! = 3.0\n",
            "2 e_to_x ≈ ∑_{i=0}^2 x^i/i! = 5.0\n",
            "3 e_to_x ≈ ∑_{i=0}^3 x^i/i! = 6.333333333333333\n",
            "4 e_to_x ≈ ∑_{i=0}^4 x^i/i! = 7.0\n",
            "5 e_to_x ≈ ∑_{i=0}^5 x^i/i! = 7.266666666666667\n",
            "6 e_to_x ≈ ∑_{i=0}^6 x^i/i! = 7.355555555555555\n",
            "7 e_to_x ≈ ∑_{i=0}^7 x^i/i! = 7.3809523809523805\n",
            "8 e_to_x ≈ ∑_{i=0}^8 x^i/i! = 7.387301587301587\n",
            "9 e_to_x ≈ ∑_{i=0}^9 x^i/i! = 7.3887125220458545\n",
            "10 e_to_x ≈ ∑_{i=0}^10 x^i/i! = 7.388994708994708\n",
            "math.exp(x) =  7.38905609893065\n"
          ]
        }
      ]
    },
    {
      "cell_type": "markdown",
      "source": [
        "# What is the minimun $n$ for which the error between the Taylor series for $e^x$ about $0$ (Maclaurin  series) for $x$ and *math.exp(x)*, is in absolute value less than  $\\epsilon$.\n",
        "\n",
        "$$\\min_{n \\in \\mathbb{N}}\\left|\\sum_{i=0}^{n} \\frac{x^i}{i!} - math.exp(x) \\right| < \\epsilon$$"
      ],
      "metadata": {
        "id": "EQulygu91CbA"
      }
    },
    {
      "cell_type": "code",
      "metadata": {
        "colab": {
          "base_uri": "https://localhost:8080/"
        },
        "id": "EfkY5SM7pZBL",
        "outputId": "6a8b921a-7023-4d54-df19-5fef11d55d3d"
      },
      "source": [
        "# Returns Min n, |∑_{i=1}^{n}  x^i/i! - math.exp(x)| < epsilon and ∑_{i=0}^{n} x^i/i!   \n",
        "import math\n",
        "\n",
        "x = 4\n",
        "epsilon = 10**(-5)\n",
        "\n",
        "e_to_x = 0\n",
        "\n",
        "print(\"n\".rjust(10),\" \",\"∑_{i=0}^n x^i/i!\".center(21),\" \",\"delta =x^i/i! \".center(21),\" \",\"error\".center(14),\" \",\"epsilon\".center(20))\n",
        "error = 1\n",
        "i = 0\n",
        "\n",
        "while  epsilon <= error:\n",
        "  delta =  x**i / math.factorial(i) \n",
        "  e_to_x += delta\n",
        "  error = abs(math.exp(x) - e_to_x)\n",
        "  print(format(i, '10'),\"  \", format(e_to_x, '.18f'),\"  \",format(delta, '.17f'),\" \",format(error, '.17f'),\"  \",\"{:.0e}\".format(epsilon)) \n",
        "  i = i+1\n",
        "\n",
        "\n",
        "print(\"n =\",i-1) \n",
        "print(\"x =\",x) \n",
        "print('e_to_x ≈ ∑_{i=0}^'+str(i-1),'x^i/i! =',e_to_x)  \n",
        "print(\"epsilon =\",\"{:.0e}\".format(epsilon)) \n",
        "print('math.exp(x) = ',math.exp(x))"
      ],
      "execution_count": 2,
      "outputs": [
        {
          "output_type": "stream",
          "name": "stdout",
          "text": [
            "         n      ∑_{i=0}^n x^i/i!         delta =x^i/i!           error              epsilon       \n",
            "         0    1.000000000000000000    1.00000000000000000   53.59815003314423620    1e-05\n",
            "         1    5.000000000000000000    4.00000000000000000   49.59815003314423620    1e-05\n",
            "         2    13.000000000000000000    8.00000000000000000   41.59815003314423620    1e-05\n",
            "         3    23.666666666666664298    10.66666666666666607   30.93148336647757191    1e-05\n",
            "         4    34.333333333333328596    10.66666666666666607   20.26481669981090761    1e-05\n",
            "         5    42.866666666666660035    8.53333333333333321   11.73148336647757617    1e-05\n",
            "         6    48.555555555555550029    5.68888888888888911   6.04259447758868617    1e-05\n",
            "         7    51.806349206349203484    3.25079365079365079   2.79180082679503272    1e-05\n",
            "         8    53.431746031746030212    1.62539682539682540   1.16640400139820599    1e-05\n",
            "         9    54.154144620811287325    0.72239858906525578   0.44400541233294888    1e-05\n",
            "        10    54.443104056437391591    0.28895943562610227   0.15504597670684461    1e-05\n",
            "        11    54.548180214846880176    0.10507615840949175   0.04996981829735603    1e-05\n",
            "        12    54.583205600983376371    0.03502538613649725   0.01494443216085983    1e-05\n",
            "        13    54.593982642871530686    0.01077704188815300   0.00416739027270552    1e-05\n",
            "        14    54.597061797696717633    0.00307915482518657   0.00108823544751857    1e-05\n",
            "        15    54.597882905650102714    0.00082110795338309   0.00026712749413349    1e-05\n",
            "        16    54.598088182638448984    0.00020527698834577   0.00006185050578722    1e-05\n",
            "        17    54.598136483106294747    0.00004830046784606   0.00001355003794146    1e-05\n",
            "        18    54.598147216543594595    0.00001073343729913   0.00000281660064161    1e-05\n",
            "n = 18\n",
            "x = 4\n",
            "e_to_x ≈ ∑_{i=0}^18 x^i/i! = 54.598147216543595\n",
            "epsilon = 1e-05\n",
            "math.exp(x) =  54.598150033144236\n"
          ]
        }
      ]
    },
    {
      "cell_type": "code",
      "source": [
        "# Returns Min n, |∑_{i=1}^{n}  x^i/i! - math.exp(x)| < epsilon and ∑_{i=0}^{n} x^i/i!   \n",
        "import math\n",
        "\n",
        "x = -4\n",
        "epsilon = 10**(-5)\n",
        "\n",
        "e_to_x = 0\n",
        "\n",
        "print(\"n\".rjust(10),\" \",\"∑_{i=0}^n x^i/i!\".center(21),\" \",\"delta =x^i/i! \".center(21),\" \",\"error\".center(14),\" \",\"epsilon\".center(20))\n",
        "error = 1\n",
        "i = 0\n",
        "while  epsilon <= error:\n",
        "  delta =  x**i / math.factorial(i) \n",
        "  e_to_x += delta\n",
        "  error = abs(math.exp(x) - e_to_x)\n",
        "  print(format(i, '10'),\"  \", format(e_to_x, '.18f'),\"  \",format(delta, '.17f'),\" \",format(error, '.17f'),\"  \",\"{:.0e}\".format(epsilon)) \n",
        "  i = i+1\n",
        "\n",
        "\n",
        "print(\"n =\",i-1) \n",
        "print(\"x =\",x) \n",
        "print('e_to_x ≈ ∑_{i=0}^'+str(i-1),'x^i/i! =',e_to_x)  \n",
        "print(\"epsilon =\",\"{:.0e}\".format(epsilon)) \n",
        "print('math.exp(x) = ',math.exp(x))"
      ],
      "metadata": {
        "colab": {
          "base_uri": "https://localhost:8080/"
        },
        "id": "3Pn3ahtECboG",
        "outputId": "2b66bc87-95c0-4281-f564-227758781350"
      },
      "execution_count": 3,
      "outputs": [
        {
          "output_type": "stream",
          "name": "stdout",
          "text": [
            "         n      ∑_{i=0}^n x^i/i!         delta =x^i/i!           error              epsilon       \n",
            "         0    1.000000000000000000    1.00000000000000000   0.98168436111126578    1e-05\n",
            "         1    -3.000000000000000000    -4.00000000000000000   3.01831563888873422    1e-05\n",
            "         2    5.000000000000000000    8.00000000000000000   4.98168436111126578    1e-05\n",
            "         3    -5.666666666666666075    -10.66666666666666607   5.68498230555540029    1e-05\n",
            "         4    5.000000000000000000    10.66666666666666607   4.98168436111126578    1e-05\n",
            "         5    -3.533333333333333215    -8.53333333333333321   3.55164897222206744    1e-05\n",
            "         6    2.155555555555555891    5.68888888888888911   2.13723991666682167    1e-05\n",
            "         7    -1.095238095238094900    -3.25079365079365079   1.11355373412682912    1e-05\n",
            "         8    0.530158730158730496    1.62539682539682540   0.51184309126999628    1e-05\n",
            "         9    -0.192239858906525285    -0.72239858906525578   0.21055549779525945    1e-05\n",
            "        10    0.096719576719576983    0.28895943562610227   0.07840393783084280    1e-05\n",
            "        11    -0.008356581689914766    -0.10507615840949175   0.02667222057864894    1e-05\n",
            "        12    0.026668804446582484    0.03502538613649725   0.00835316555784830    1e-05\n",
            "        13    0.015891762558429487    -0.01077704188815300   0.00242387633030469    1e-05\n",
            "        14    0.018970917383616059    0.00307915482518657   0.00065527849488188    1e-05\n",
            "        15    0.018149809430232974    -0.00082110795338309   0.00016582945850121    1e-05\n",
            "        16    0.018355086418578744    0.00020527698834577   0.00003944752984457    1e-05\n",
            "        17    0.018306785950732679    -0.00004830046784606   0.00000885293800150    1e-05\n",
            "n = 17\n",
            "x = -4\n",
            "e_to_x ≈ ∑_{i=0}^17 x^i/i! = 0.01830678595073268\n",
            "epsilon = 1e-05\n",
            "math.exp(x) =  0.01831563888873418\n"
          ]
        }
      ]
    },
    {
      "cell_type": "markdown",
      "metadata": {
        "id": "ZlcF8gIdjZ6t"
      },
      "source": [
        "# What is the minimun $n$ for which the $n$-th term of the Taylor series for $e^x$ about $0$ (Maclaurin  series) for $x$, is in absolute value less than  $\\epsilon$.\n",
        "\n",
        "$$\\min_{n \\in \\mathbb{N}}\\left|\\frac{x^{n}}{n!}\\right| < \\epsilon$$"
      ]
    },
    {
      "cell_type": "code",
      "metadata": {
        "id": "_8y-XrmvcCLf",
        "colab": {
          "base_uri": "https://localhost:8080/"
        },
        "outputId": "fe028740-ac23-4edf-8413-4dd98f115dd5"
      },
      "source": [
        "# Returns Min n, |x^{n}/n!| < epsilon and ∑_{i=0}^{n} x^i/i!\n",
        "import math\n",
        "\n",
        "x = 1\n",
        "epsilon = 10**(-5)\n",
        "\n",
        "e_to_x = 0\n",
        "\n",
        "delta = 1\n",
        "i = 0\n",
        "print(\"n\".rjust(10),\" \",\"∑_{i=0}^n x^i/i!\".center(20),\" \",\" delta=x^n/n!\".center(20),\" \",\"epsilon\".center(9))\n",
        "while  epsilon <= abs(delta):\n",
        "  delta = x**i/math.factorial(i) \n",
        "  e_to_x += delta\n",
        "  print(format(i, '10'),\"  \", format(e_to_x, '.17f'),\"  \",format(delta, '.17f'),\"  \",\"{:.0e}\".format(epsilon)) \n",
        "  i = i+1\n",
        "\n",
        "print(\"n = \",i-1) \n",
        "print('x = ',x)\n",
        "print('e_to_x ≈ ∑_{i=0}^'+str(i-1),'x^i/i! =',e_to_x)\n",
        "print(\"epsilon =\",\"{:.0e}\".format(epsilon))     \n",
        "print('math.exp(x) = ',math.exp(x))"
      ],
      "execution_count": 4,
      "outputs": [
        {
          "output_type": "stream",
          "name": "stdout",
          "text": [
            "         n     ∑_{i=0}^n x^i/i!         delta=x^n/n!        epsilon \n",
            "         0    1.00000000000000000    1.00000000000000000    1e-05\n",
            "         1    2.00000000000000000    1.00000000000000000    1e-05\n",
            "         2    2.50000000000000000    0.50000000000000000    1e-05\n",
            "         3    2.66666666666666652    0.16666666666666666    1e-05\n",
            "         4    2.70833333333333304    0.04166666666666666    1e-05\n",
            "         5    2.71666666666666634    0.00833333333333333    1e-05\n",
            "         6    2.71805555555555545    0.00138888888888889    1e-05\n",
            "         7    2.71825396825396837    0.00019841269841270    1e-05\n",
            "         8    2.71827876984127004    0.00002480158730159    1e-05\n",
            "         9    2.71828152557319225    0.00000275573192240    1e-05\n",
            "n =  9\n",
            "x =  1\n",
            "e_to_x ≈ ∑_{i=0}^9 x^i/i! = 2.7182815255731922\n",
            "epsilon = 1e-05\n",
            "math.exp(x) =  2.718281828459045\n"
          ]
        }
      ]
    },
    {
      "cell_type": "code",
      "metadata": {
        "colab": {
          "base_uri": "https://localhost:8080/"
        },
        "id": "Ifa0n-_ODOAj",
        "outputId": "5a14aeb4-abbe-4379-bf1c-20fb70e1ab8e"
      },
      "source": [
        "# Returns Min n, |x^{n}/n!| < epsilon and ∑_{i=0}^{n} x^i/i!\n",
        "import math\n",
        "\n",
        "x = -1\n",
        "epsilon = 10**(-5)\n",
        "\n",
        "e_to_x = 0\n",
        "\n",
        "delta = 1\n",
        "i = 0\n",
        "print(\"n\".rjust(10),\" \",\"∑_{i=0}^n x^i/i!\".center(20),\" \",\" delta=x^n/n!\".center(20),\" \",\"epsilon\".center(9))\n",
        "while  epsilon <= abs(delta):\n",
        "  delta = x**i/math.factorial(i) \n",
        "  e_to_x += delta\n",
        "  print(format(i, '10'),\"  \", format(e_to_x, '.17f'),\"  \",format(delta, '.17f'),\"  \",\"{:.0e}\".format(epsilon)) \n",
        "  i = i+1\n",
        "\n",
        "print(\"n = \",i-1) \n",
        "print('x = ',x)\n",
        "print('e_to_x ≈ ∑_{i=0}^'+str(i-1),'x^i/i! =',e_to_x)\n",
        "print(\"epsilon =\",\"{:.0e}\".format(epsilon))     \n",
        "print('math.exp(x) = ',math.exp(x))"
      ],
      "execution_count": 5,
      "outputs": [
        {
          "output_type": "stream",
          "name": "stdout",
          "text": [
            "         n     ∑_{i=0}^n x^i/i!         delta=x^n/n!        epsilon \n",
            "         0    1.00000000000000000    1.00000000000000000    1e-05\n",
            "         1    0.00000000000000000    -1.00000000000000000    1e-05\n",
            "         2    0.50000000000000000    0.50000000000000000    1e-05\n",
            "         3    0.33333333333333337    -0.16666666666666666    1e-05\n",
            "         4    0.37500000000000006    0.04166666666666666    1e-05\n",
            "         5    0.36666666666666670    -0.00833333333333333    1e-05\n",
            "         6    0.36805555555555558    0.00138888888888889    1e-05\n",
            "         7    0.36785714285714288    -0.00019841269841270    1e-05\n",
            "         8    0.36788194444444450    0.00002480158730159    1e-05\n",
            "         9    0.36787918871252212    -0.00000275573192240    1e-05\n",
            "n =  9\n",
            "x =  -1\n",
            "e_to_x ≈ ∑_{i=0}^9 x^i/i! = 0.3678791887125221\n",
            "epsilon = 1e-05\n",
            "math.exp(x) =  0.36787944117144233\n"
          ]
        }
      ]
    },
    {
      "cell_type": "code",
      "metadata": {
        "colab": {
          "base_uri": "https://localhost:8080/"
        },
        "id": "9qMzfOv0C6PM",
        "outputId": "20cb59e1-202c-4a2d-cab0-021d3e002849"
      },
      "source": [
        "# Returns Min n, |x^{n}/n!| < epsilon and ∑_{i=0}^{n} x^i/i!\n",
        "import math\n",
        "\n",
        "x = 4\n",
        "epsilon = 10**(-5)\n",
        "\n",
        "e_to_x = 0\n",
        "\n",
        "delta = 1\n",
        "i = 0\n",
        "print(\"n\".rjust(10),\" \",\"∑_{i=0}^n x^i/i!\".center(20),\" \",\" deltax^n/n!\".center(20),\" \",\"epsilon\".center(9))\n",
        "while  epsilon <= abs(delta):\n",
        "  delta = x**i/math.factorial(i) \n",
        "  e_to_x += delta\n",
        "  print(format(i, '10'),\"  \", format(e_to_x, '.17f'),\"  \",format(delta, '.17f'),\"  \",\"{:.0e}\".format(epsilon)) \n",
        "  i = i+1\n",
        "\n",
        "print(\"n = \",i-1) \n",
        "print('x = ',x)\n",
        "print('e_to_x ≈ ∑_{i=0}^'+str(i-1),'x^i/i! =',e_to_x)\n",
        "print(\"epsilon =\",\"{:.0e}\".format(epsilon))     \n",
        "print('math.exp(x) = ',math.exp(x))"
      ],
      "execution_count": 6,
      "outputs": [
        {
          "output_type": "stream",
          "name": "stdout",
          "text": [
            "         n     ∑_{i=0}^n x^i/i!          deltax^n/n!        epsilon \n",
            "         0    1.00000000000000000    1.00000000000000000    1e-05\n",
            "         1    5.00000000000000000    4.00000000000000000    1e-05\n",
            "         2    13.00000000000000000    8.00000000000000000    1e-05\n",
            "         3    23.66666666666666430    10.66666666666666607    1e-05\n",
            "         4    34.33333333333332860    10.66666666666666607    1e-05\n",
            "         5    42.86666666666666003    8.53333333333333321    1e-05\n",
            "         6    48.55555555555555003    5.68888888888888911    1e-05\n",
            "         7    51.80634920634920348    3.25079365079365079    1e-05\n",
            "         8    53.43174603174603021    1.62539682539682540    1e-05\n",
            "         9    54.15414462081128733    0.72239858906525578    1e-05\n",
            "        10    54.44310405643739159    0.28895943562610227    1e-05\n",
            "        11    54.54818021484688018    0.10507615840949175    1e-05\n",
            "        12    54.58320560098337637    0.03502538613649725    1e-05\n",
            "        13    54.59398264287153069    0.01077704188815300    1e-05\n",
            "        14    54.59706179769671763    0.00307915482518657    1e-05\n",
            "        15    54.59788290565010271    0.00082110795338309    1e-05\n",
            "        16    54.59808818263844898    0.00020527698834577    1e-05\n",
            "        17    54.59813648310629475    0.00004830046784606    1e-05\n",
            "        18    54.59814721654359460    0.00001073343729913    1e-05\n",
            "        19    54.59814947621460846    0.00000225967101034    1e-05\n",
            "n =  19\n",
            "x =  4\n",
            "e_to_x ≈ ∑_{i=0}^19 x^i/i! = 54.59814947621461\n",
            "epsilon = 1e-05\n",
            "math.exp(x) =  54.598150033144236\n"
          ]
        }
      ]
    },
    {
      "cell_type": "code",
      "source": [
        "# Returns Min n, |x^{n}/n!| < epsilon and ∑_{i=0}^{n} x^i/i!\n",
        "import math\n",
        "\n",
        "x = -4\n",
        "epsilon = 10**(-5)\n",
        "\n",
        "e_to_x = 0\n",
        "\n",
        "delta = 1\n",
        "i = 0\n",
        "print(\"n\".rjust(10),\" \",\"∑_{i=0}^n x^i/i!\".center(20),\" \",\" delta=x^n/n!\".center(20),\" \",\"epsilon\".center(9))\n",
        "while  epsilon <= abs(delta):\n",
        "  delta = x**i/math.factorial(i) \n",
        "  e_to_x += delta\n",
        "  print(format(i, '10'),\"  \", format(e_to_x, '.17f'),\"  \",format(delta, '.17f'),\"  \",\"{:.0e}\".format(epsilon)) \n",
        "  i = i+1\n",
        "\n",
        "print(\"n = \",i-1) \n",
        "print('x = ',x)\n",
        "print('e_to_x ≈ ∑_{i=0}^'+str(i-1),'x^i/i! =',e_to_x)\n",
        "print(\"epsilon =\",\"{:.0e}\".format(epsilon))     \n",
        "print('math.exp(x) = ',math.exp(x))"
      ],
      "metadata": {
        "colab": {
          "base_uri": "https://localhost:8080/"
        },
        "id": "c3tgFlYc6sKn",
        "outputId": "1e112ba0-9a6f-454c-b8f8-6f099622eb76"
      },
      "execution_count": 7,
      "outputs": [
        {
          "output_type": "stream",
          "name": "stdout",
          "text": [
            "         n     ∑_{i=0}^n x^i/i!         delta=x^n/n!        epsilon \n",
            "         0    1.00000000000000000    1.00000000000000000    1e-05\n",
            "         1    -3.00000000000000000    -4.00000000000000000    1e-05\n",
            "         2    5.00000000000000000    8.00000000000000000    1e-05\n",
            "         3    -5.66666666666666607    -10.66666666666666607    1e-05\n",
            "         4    5.00000000000000000    10.66666666666666607    1e-05\n",
            "         5    -3.53333333333333321    -8.53333333333333321    1e-05\n",
            "         6    2.15555555555555589    5.68888888888888911    1e-05\n",
            "         7    -1.09523809523809490    -3.25079365079365079    1e-05\n",
            "         8    0.53015873015873050    1.62539682539682540    1e-05\n",
            "         9    -0.19223985890652528    -0.72239858906525578    1e-05\n",
            "        10    0.09671957671957698    0.28895943562610227    1e-05\n",
            "        11    -0.00835658168991477    -0.10507615840949175    1e-05\n",
            "        12    0.02666880444658248    0.03502538613649725    1e-05\n",
            "        13    0.01589176255842949    -0.01077704188815300    1e-05\n",
            "        14    0.01897091738361606    0.00307915482518657    1e-05\n",
            "        15    0.01814980943023297    -0.00082110795338309    1e-05\n",
            "        16    0.01835508641857874    0.00020527698834577    1e-05\n",
            "        17    0.01830678595073268    -0.00004830046784606    1e-05\n",
            "        18    0.01831751938803181    0.00001073343729913    1e-05\n",
            "        19    0.01831525971702146    -0.00000225967101034    1e-05\n",
            "n =  19\n",
            "x =  -4\n",
            "e_to_x ≈ ∑_{i=0}^19 x^i/i! = 0.018315259717021463\n",
            "epsilon = 1e-05\n",
            "math.exp(x) =  0.01831563888873418\n"
          ]
        }
      ]
    },
    {
      "cell_type": "markdown",
      "source": [
        "# For  $x$ negative  and less than  $-9$ at the middle phase of the algorithm there are problems caused by rounding errors due to differences that produce wrong answers.\n",
        "\n",
        "https://stackoverflow.com/questions/69978341/error-of-taylor-series-ex-for-negative-x\n"
      ],
      "metadata": {
        "id": "fc0gbEw-iTQ8"
      }
    },
    {
      "cell_type": "code",
      "source": [
        "# Returns Min n, |x^{n}/n!| < epsilon and ∑_{i=0}^{n} x^i/i!\n",
        "\n",
        "import math\n",
        "\n",
        "x = -9\n",
        "epsilon = 10**(-5)\n",
        "\n",
        "delta = 1\n",
        "e_to_x = 0\n",
        "i = 0\n",
        "\n",
        "print(\"n\".rjust(10),\" \",\"∑_{i=0}^n x^i/i!\".center(20),\" \",\" delta=x^n/n!\".center(20),\" \",\"epsilon\".center(9))\n",
        "while  epsilon <= abs(delta):\n",
        "  delta = x**i/math.factorial(i) \n",
        "  e_to_x += delta\n",
        "  print(format(i, '10'),\"  \", format(e_to_x, '.17f'),\"  \",format( delta, '.17f'),\"  \",\"{:.0e}\".format(epsilon)) \n",
        "  i = i+1\n",
        "  \n",
        "print(\"n = \",i-1) \n",
        "print('x = ',x)\n",
        "print('e_to_x ≈ ∑_{i=0}^'+str(i-1),'x^i/i! =',e_to_x)\n",
        "print(\"epsilon =\",\"{:.0e}\".format(epsilon))     \n",
        "print('math.exp(x) = ',math.exp(x))"
      ],
      "metadata": {
        "colab": {
          "base_uri": "https://localhost:8080/"
        },
        "id": "vldL9CPI7Fgn",
        "outputId": "2c2b1474-0ac6-43f5-a6cf-a2e3b1f751dd"
      },
      "execution_count": 8,
      "outputs": [
        {
          "output_type": "stream",
          "name": "stdout",
          "text": [
            "         n     ∑_{i=0}^n x^i/i!         delta=x^n/n!        epsilon \n",
            "         0    1.00000000000000000    1.00000000000000000    1e-05\n",
            "         1    -8.00000000000000000    -9.00000000000000000    1e-05\n",
            "         2    32.50000000000000000    40.50000000000000000    1e-05\n",
            "         3    -89.00000000000000000    -121.50000000000000000    1e-05\n",
            "         4    184.37500000000000000    273.37500000000000000    1e-05\n",
            "         5    -307.69999999999998863    -492.07499999999998863    1e-05\n",
            "         6    430.41249999999996589    738.11249999999995453    1e-05\n",
            "         7    -518.58928571428577925    -949.00178571428568830    1e-05\n",
            "         8    549.03772321428573377    1067.62700892857151302    1e-05\n",
            "         9    -518.58928571428577925    -1067.62700892857151302    1e-05\n",
            "        10    442.27502232142853700    960.86430803571431625    1e-05\n",
            "        11    -343.88668425324681266    -786.16170657467534966    1e-05\n",
            "        12    245.73459567775967116    589.62127993100648382    1e-05\n",
            "        13    -162.46475196678329667    -408.19934764454296783    1e-05\n",
            "        14    99.94911437613717453    262.41386634292047120    1e-05\n",
            "        15    -57.49920542961510250    -157.44831980575227703    1e-05\n",
            "        16    31.06547446112055866    88.56467989073566116    1e-05\n",
            "        17    -15.82170901044538169    -46.88718347156594035    1e-05\n",
            "        18    7.62188272533758848    23.44359173578297018    1e-05\n",
            "        19    -3.48297651792802831    -11.10485924326561680    1e-05\n",
            "        20    1.51421014154149880    4.99718665946952711    1e-05\n",
            "        21    -0.62744128394544152    -2.14165142548694032    1e-05\n",
            "        22    0.24868884466285224    0.87613012860829376    1e-05\n",
            "        23    -0.09414468392300185    -0.34283352858585409    1e-05\n",
            "        24    0.03441788929669343    0.12856257321969528    1e-05\n",
            "        25    -0.01186463706239688    -0.04628252635909030    1e-05\n",
            "        26    0.00415623744651900    0.01602087450891587    1e-05\n",
            "        27    -0.00118405405645296    -0.00534029150297196    1e-05\n",
            "        28    0.00053246821235945    0.00171652226881242    1e-05\n",
            "        29    -0.00000024559520302    -0.00053271380756247    1e-05\n",
            "        30    0.00015956854706572    0.00015981414226874    1e-05\n",
            "        31    0.00011317089285867    -0.00004639765420705    1e-05\n",
            "        32    0.00012622023310440    0.00001304934024573    1e-05\n",
            "        33    0.00012266132212829    -0.00000355891097611    1e-05\n",
            "n =  33\n",
            "x =  -9\n",
            "e_to_x ≈ ∑_{i=0}^33 x^i/i! = 0.0001226613221282916\n",
            "epsilon = 1e-05\n",
            "math.exp(x) =  0.00012340980408667956\n"
          ]
        }
      ]
    },
    {
      "cell_type": "code",
      "source": [
        "# Returns Min n, |x^{n}/(n!| < epsilon and ∑_{i=0}^{n} x^i/i!\n",
        "\n",
        "import math\n",
        "\n",
        "x = -10\n",
        "epsilon = 10**(-5)\n",
        "\n",
        "delta = 1\n",
        "e_to_x = 0\n",
        "i = 0\n",
        "\n",
        "print(\"n\".rjust(10),\" \",\"∑_{i=0}^n x^i/i!\".center(20),\" \",\" delta=x^n/n!\".center(20),\" \",\"epsilon\".center(9))\n",
        "while  epsilon <= abs(delta):\n",
        "  delta = x**i/math.factorial(i) \n",
        "  e_to_x += delta\n",
        "  print(format(i, '10'),\"  \", format(e_to_x, '.17f'),\"  \",format(delta, '.17f'),\"  \",\"{:.0e}\".format(epsilon)) \n",
        "  i = i+1\n",
        "  \n",
        "print(\"n = \",i-1) \n",
        "print('x = ',x)\n",
        "print('e_to_x ≈ ∑_{i=0}^'+str(i-1),'x^i/i! =',e_to_x)\n",
        "print(\"epsilon =\",\"{:.0e}\".format(epsilon))     \n",
        "print('math.exp(x) = ',math.exp(x))"
      ],
      "metadata": {
        "colab": {
          "base_uri": "https://localhost:8080/"
        },
        "id": "qu15auzpyJG4",
        "outputId": "0db4dbd5-cb42-4654-ce87-83fb75a66993"
      },
      "execution_count": 9,
      "outputs": [
        {
          "output_type": "stream",
          "name": "stdout",
          "text": [
            "         n     ∑_{i=0}^n x^i/i!         delta=x^n/n!        epsilon \n",
            "         0    1.00000000000000000    1.00000000000000000    1e-05\n",
            "         1    -9.00000000000000000    -10.00000000000000000    1e-05\n",
            "         2    41.00000000000000000    50.00000000000000000    1e-05\n",
            "         3    -125.66666666666665719    -166.66666666666665719    1e-05\n",
            "         4    291.00000000000000000    416.66666666666668561    1e-05\n",
            "         5    -542.33333333333337123    -833.33333333333337123    1e-05\n",
            "         6    846.55555555555554292    1388.88888888888891415    1e-05\n",
            "         7    -1137.57142857142844150    -1984.12698412698409811    1e-05\n",
            "         8    1342.58730158730168114    2480.15873015873012264    1e-05\n",
            "         9    -1413.14462081128749560    -2755.73192239858917674    1e-05\n",
            "        10    1342.58730158730168114    2755.73192239858917674    1e-05\n",
            "        11    -1162.62353695687033905    -2505.21083854417202019    1e-05\n",
            "        12    925.05216182993945040    2087.67569878680978945    1e-05\n",
            "        13    -680.85222185222210101    -1605.90438368216155141    1e-05\n",
            "        14    466.22233792075030578    1147.07455977297240679    1e-05\n",
            "        15    -298.49403526123137453    -764.71637318198168032    1e-05\n",
            "        16    179.45369797750714724    477.94773323873852178    1e-05\n",
            "        17    -101.69202745704490098    -281.14572543455204823    1e-05\n",
            "        18    54.50004222881736382    156.19206968586226481    1e-05\n",
            "        19    -27.70631023742593868    -82.20635246624330250    1e-05\n",
            "        20    13.39686599569571257    41.10317623312165125    1e-05\n",
            "        21    -6.17607506769554959    -19.57294106339126216    1e-05\n",
            "        22    2.72071632475502412    8.89679139245057371    1e-05\n",
            "        23    -1.14745384587565979    -3.86817017063068391    1e-05\n",
            "        24    0.46428372522045858    1.61173757109611837    1e-05\n",
            "        25    -0.18041130321798882    -0.64469502843844739    1e-05\n",
            "        26    0.06754832310449094    0.24795962632247975    1e-05\n",
            "        27    -0.02428857553346453    -0.09183689863795547    1e-05\n",
            "        28    0.00851031683723385    0.03279889237069838    1e-05\n",
            "        29    -0.00279964604921387    -0.01130996288644772    1e-05\n",
            "        30    0.00097034157960204    0.00376998762881591    1e-05\n",
            "        31    -0.00024578346195148    -0.00121612504155352    1e-05\n",
            "        32    0.00013425561353399    0.00038003907548547    1e-05\n",
            "        33    0.00001909225732627    -0.00011516335620772    1e-05\n",
            "        34    0.00005296383268149    0.00003387157535521    1e-05\n",
            "        35    0.00004328623972285    -0.00000967759295863    1e-05\n",
            "n =  35\n",
            "x =  -10\n",
            "e_to_x ≈ ∑_{i=0}^35 x^i/i! = 4.328623972285397e-05\n",
            "epsilon = 1e-05\n",
            "math.exp(x) =  4.5399929762484854e-05\n"
          ]
        }
      ]
    },
    {
      "cell_type": "code",
      "source": [
        "# Returns Min n, |x^{n}/n!| < epsilon and ∑_{i=0}^{n} x^i/i!\n",
        "import math\n",
        "\n",
        "x = -35\n",
        "epsilon = 10**(-5)\n",
        "\n",
        "delta = 1\n",
        "e_to_x = 0\n",
        "i = 0\n",
        "\n",
        "print(\"n\".rjust(10),\" \",\"∑_{i=0}^n x^i/i!\".center(20),\" \",\" delta =x^n/n!|.center(20)\",\" \",\"epsilon\".center(9))\n",
        "while  epsilon <= abs(delta):\n",
        "  delta = x**i/math.factorial(i) \n",
        "  e_to_x += delta\n",
        "  print(format(i, '10'),\"  \", format(e_to_x, '.17f'),\"  \",format( delta, '.17f'),\"  \",\"{:.0e}\".format(epsilon)) \n",
        "  i = i+1\n",
        "  \n",
        "print(\"n = \",i-1) \n",
        "print('x = ',x)\n",
        "print('e_to_x ≈ ∑_{i=0}^'+str(i-1),'x^i/i! =',e_to_x)\n",
        "print(\"epsilon =\",\"{:.0e}\".format(epsilon))     \n",
        "print('math.exp(x) = ',math.exp(x))"
      ],
      "metadata": {
        "colab": {
          "base_uri": "https://localhost:8080/"
        },
        "id": "zotJ5A3NjCMf",
        "outputId": "ca4e4c02-a9cf-426a-c758-e263e0da6b82"
      },
      "execution_count": null,
      "outputs": [
        {
          "output_type": "stream",
          "name": "stdout",
          "text": [
            "         n     ∑_{i=0}^n x^i/i!      delta =x^n/n!|.center(20)    epsilon \n",
            "         0    1.00000000000000000    1.00000000000000000    1e-05\n",
            "         1    -34.00000000000000000    -35.00000000000000000    1e-05\n",
            "         2    578.50000000000000000    612.50000000000000000    1e-05\n",
            "         3    -6567.33333333333303017    -7145.83333333333303017    1e-05\n",
            "         4    55958.70833333332848269    62526.04166666666424135    1e-05\n",
            "         5    -381723.58333333337213844    -437682.29166666668606922    1e-05\n",
            "         6    2171423.11805555550381541    2553146.70138888899236917    1e-05\n",
            "         7    -10594310.38888888806104660    -12765733.50694444403052330    1e-05\n",
            "         8    45255773.70399305969476700    55850084.09288194775581360    1e-05\n",
            "         9    -171938997.76832562685012817    -217194771.47231867909431458    1e-05\n",
            "        10    588242702.38478970527648926    760181700.15311539173126221    1e-05\n",
            "        11    -1830517252.64785027503967285    -2418759955.03263998031616211    1e-05\n",
            "        12    5224199282.86401557922363281    7054716535.51186561584472656    1e-05\n",
            "        13    -13769268312.74485588073730469    -18993467595.60887145996093750    1e-05\n",
            "        14    33714400676.27732086181640625    47483668989.02217864990234375    1e-05\n",
            "        15    -77080826964.77441406250000000    -110795227641.05174255371093750    1e-05\n",
            "        16    165283733500.02627563476562500    242364560464.80068969726562500    1e-05\n",
            "        17    -333702126280.44567871093750000    -498985859780.47198486328125000    1e-05\n",
            "        18    636548156626.02770996093750000    970250282906.47338867187500000    1e-05\n",
            "        19    -1150754996096.42333984375000000    -1787303152722.45092773437500000    1e-05\n",
            "        20    1977025521167.86572265625000000    3127780517264.28906250000000000    1e-05\n",
            "        21    -3235942007605.94970703125000000    -5212967528773.81542968750000000    1e-05\n",
            "        22    5057415424534.21093750000000000    8293357432140.16015625000000000    1e-05\n",
            "        23    -7562911102635.59765625000000000    -12620326527169.80859375000000000    1e-05\n",
            "        24    10841731749487.03906250000000000    18404642852122.63671875000000000    1e-05\n",
            "        25    -14924768243484.65625000000000000    -25766499992971.69531250000000000    1e-05\n",
            "        26    19760904823977.23828125000000000    34685673067461.89453125000000000    1e-05\n",
            "        27    -25202004707917.80859375000000000    -44962909531895.04687500000000000    1e-05\n",
            "        28    31001632206951.00390625000000000    56203636914868.81250000000000000    1e-05\n",
            "        29    -36830343379959.62500000000000000    -67831975586910.63281250000000000    1e-05\n",
            "        30    42306961471436.10937500000000000    79137304851395.73437500000000000    1e-05\n",
            "        31    -47041608522075.20312500000000000    -89348569993511.31250000000000000    1e-05\n",
            "        32    50683389908327.79687500000000000    97724998430403.00000000000000000    1e-05\n",
            "        33    -52964335699675.39062500000000000    -103647725608003.18750000000000000    1e-05\n",
            "        34    53731852426210.25000000000000000    106696188125885.64062500000000000    1e-05\n",
            "        35    -52964335699675.39062500000000000    -106696188125885.64062500000000000    1e-05\n",
            "        36    50768069422713.42187500000000000    103732405122388.81250000000000000    1e-05\n",
            "        37    -47357178666032.75000000000000000    -98125248088746.17187500000000000    1e-05\n",
            "        38    43021339310443.98437500000000000    90378517976476.73437500000000000    1e-05\n",
            "        39    -38087587078701.81250000000000000    -81108926389145.79687500000000000    1e-05\n",
            "        40    32882723511800.75000000000000000    70970310590502.56250000000000000    1e-05\n",
            "        41    -27701687967896.56250000000000000    -60584411479697.31250000000000000    1e-05\n",
            "        42    22785321598517.86718750000000000    50487009566414.42968750000000000    1e-05\n",
            "        43    -18308755955540.39062500000000000    -41094077554058.25781250000000000    1e-05\n",
            "        44    14379714826096.85937500000000000    32688470781637.25000000000000000    1e-05\n",
            "        45    -11044651337398.77734375000000000    -25424366163495.63671875000000000    1e-05\n",
            "        46    8299975091347.90234375000000000    19344626428746.67968750000000000    1e-05\n",
            "        47    -6105597781123.02929687500000000    -14405572872470.93164062500000000    1e-05\n",
            "        48    4398465771720.35937500000000000    10504063552843.38867187500000000    1e-05\n",
            "        49    -3104436766024.91796875000000000    -7502902537745.27734375000000000    1e-05\n",
            "        50    2147595010396.77636718750000000    5252031776421.69433593750000000    1e-05\n",
            "        51    -1456740522441.64111328125000000    -3604335532838.41748046875000000    1e-05\n",
            "        52    969254547738.06298828125000000    2425995070179.70410156250000000    1e-05\n",
            "        53    -632817668418.34545898437500000    -1602072216156.40844726562500000    1e-05\n",
            "        54    405562471683.03039550781250000    1038380140101.37585449218750000    1e-05\n",
            "        55    -255224890199.66333007812500000    -660787361882.69372558593750000    1e-05\n",
            "        56    157767210977.02020263671875000    412992101176.68353271484375000    1e-05\n",
            "        57    -95824430096.38198852539062500    -253591641073.40219116210937500    1e-05\n",
            "        58    57205008482.39520263671875000    153029438578.77719116210937500    1e-05\n",
            "        59    -33575166945.69296264648437500    -90780175428.08816528320312500    1e-05\n",
            "        60    19379935387.35845947265625000    52955102333.05142211914062500    1e-05\n",
            "        61    -11004139721.76940917968750000    -30384075109.12786865234375000    1e-05\n",
            "        62    6148160743.06083869934082031    17152300464.83024787902832031    1e-05\n",
            "        63    -3380895070.73374366760253906    -9529055813.79458236694335938    1e-05\n",
            "        64    1830307327.43516826629638672    5211202398.16891193389892578    1e-05\n",
            "        65    -975724733.11732292175292969    -2806032060.55249118804931641    1e-05\n",
            "        66    512322571.72111940383911133    1488047304.83844232559204102    1e-05\n",
            "        67    -265015572.59746980667114258    -777338144.31858921051025391    1e-05\n",
            "        68    135084942.86062759160995483    400100515.45809739828109741    1e-05\n",
            "        69    -67864593.96594354510307312    -202949536.82657113671302795    1e-05\n",
            "        70    33610174.44734202325344086    101474768.41328556835651398    1e-05\n",
            "        71    -16412598.71413677930831909    -50022773.16147880256175995    1e-05\n",
            "        72    7904027.12824875116348267    24316625.84238553047180176    1e-05\n",
            "        73    -3754629.09755253046751022    -11658656.22580128163099289    1e-05\n",
            "        74    1759600.19843456242233515    5514229.29598709288984537    1e-05\n",
            "        75    -813706.80635941401124001    -2573307.00479397643357515    1e-05\n",
            "        76    371368.78795360145159066    1185075.59431301546283066    1e-05\n",
            "        77    -167301.93673413281794637    -538670.72468773426953703    1e-05\n",
            "        78    74409.28588215823401697    241711.22261629105196334    1e-05\n",
            "        79    -32677.96464404666039627    -107087.25052620489441324    1e-05\n",
            "        80    14172.70746116797818104    46850.67210521463857731    1e-05\n",
            "        81    -6071.41011515933496412    -20244.11757632731314516    1e-05\n",
            "        82    2569.37177717549457157    8640.78189233482953568    1e-05\n",
            "        83    -1074.33143043557765850    -3643.70320761107223007    1e-05\n",
            "        84    443.87823940236921771    1518.20966983794687621    1e-05\n",
            "        85    -181.26691876619713639    -625.14515816856635411    1e-05\n",
            "        86    73.15262234891707749    254.41954111511421388    1e-05\n",
            "        87    -29.20006660543921839    -102.35268895435629588    1e-05\n",
            "        88    11.50838922867976066    40.70845583411897906    1e-05\n",
            "        89    -4.50055407687264619    -16.00894330555240685    1e-05\n",
            "        90    1.72514609750884595    6.22570017438149215    1e-05\n",
            "        91    -0.66935396956095872    -2.39450006706980467    1e-05\n",
            "        92    0.24159714291124956    0.91095111247220828    1e-05\n",
            "        93    -0.10123392092237721    -0.34283106383362677    1e-05\n",
            "        94    0.02641594327099445    0.12764986419337165    1e-05\n",
            "        95    -0.02061295406340564    -0.04702889733440009    1e-05\n",
            "        96    -0.00346700191023895    0.01714595215316670    1e-05\n",
            "        97    -0.00965368567684549    -0.00618668376660654    1e-05\n",
            "        98    -0.00744415576020029    0.00220952991664519    1e-05\n",
            "        99    -0.00822530270042839    -0.00078114694022810    1e-05\n",
            "       100    -0.00795190127134856    0.00027340142907983    1e-05\n",
            "       101    -0.00804664434083167    -0.00009474306948311    1e-05\n",
            "       102    -0.00801413446404825    0.00003250987678342    1e-05\n",
            "       103    -0.00802518150955718    -0.00001104704550893    1e-05\n",
            "       104    -0.00802146375385706    0.00000371775570012    1e-05\n",
            "n =  104\n",
            "x =  -35\n",
            "e_to_x ≈ ∑_{i=0}^104 x^i/i! = -0.00802146375385706\n",
            "epsilon = 1e-05\n",
            "math.exp(x) =  6.305116760146989e-16\n"
          ]
        }
      ]
    },
    {
      "cell_type": "code",
      "source": [
        "# Returns Min n, |x^{n}/n!| < epsilon and ∑_{i=0}^{n} x^i/i!\n",
        "\n",
        "import math\n",
        "\n",
        "x = -43\n",
        "epsilon = 10**(-5)\n",
        "\n",
        "delta = 1\n",
        "e_to_x = 0\n",
        "i = 0\n",
        "\n",
        "print(\"n\".rjust(10),\" \",\"∑_{i=10}^n x^i/i!\".center(20),\" \",\" delta =x^n/n!|.center(20)\",\" \",\"epsilon\".center(9))\n",
        "while  epsilon <= abs(delta):\n",
        "  delta = x**i/math.factorial(i) \n",
        "  e_to_x += delta\n",
        "  print(format(i, '10'),\"  \", format(e_to_x, '.17f'),\"  \",format( abs(delta), '.17f'),\"  \",\"{:.0e}\".format(epsilon)) \n",
        "  i = i+1\n",
        "  \n",
        "print(\"n = \",i-1) \n",
        "print('x = ',x)\n",
        "print('e_to_x ≈ ∑_{i=0}^'+str(i-1),'x^i/i! =',e_to_x)\n",
        "print(\"epsilon =\",\"{:.0e}\".format(epsilon))     \n",
        "print('math.exp(x) = ',math.exp(x))"
      ],
      "metadata": {
        "colab": {
          "base_uri": "https://localhost:8080/"
        },
        "id": "I-x7epgF7qSR",
        "outputId": "169f45d2-c323-4d58-ace9-00d4a46ef300"
      },
      "execution_count": null,
      "outputs": [
        {
          "output_type": "stream",
          "name": "stdout",
          "text": [
            "         n    ∑_{i=10}^n x^i/i!      delta =x^n/n!|.center(20)    epsilon \n",
            "         0    1.00000000000000000    1.00000000000000000    1e-05\n",
            "         1    -42.00000000000000000    43.00000000000000000    1e-05\n",
            "         2    882.50000000000000000    924.50000000000000000    1e-05\n",
            "         3    -12368.66666666666606034    13251.16666666666606034    1e-05\n",
            "         4    130081.37499999998544808    142450.04166666665696539    1e-05\n",
            "         5    -1094988.98333333339542150    1225070.35833333339542150    1e-05\n",
            "         6    7684681.91805555578321218    8779670.90138888917863369    1e-05\n",
            "         7    -46247582.19047618657350540    53932264.10853174328804016    1e-05\n",
            "         8    243638337.39288192987442017    289885919.58335810899734497    1e-05\n",
            "         9    -1141372167.28316259384155273    1385010504.67604446411132812    1e-05\n",
            "        10    4814173002.82382774353027344    5955545170.10699081420898438    1e-05\n",
            "        11    -18466594480.32168579101562500    23280767483.14551162719726562    1e-05\n",
            "        12    64956155667.61639404296875000    83422750147.93807983398437500    1e-05\n",
            "        13    -210980633283.25573730468750000    275936788950.87213134765625000    1e-05\n",
            "        14    636539504208.70861816406250000    847520137491.96435546875000000    1e-05\n",
            "        15    -1793018223268.25585937500000000    2429557727476.96435546875000000    1e-05\n",
            "        16    4736418169326.08593750000000000    6529436392594.34179687500000000    1e-05\n",
            "        17    -11779215059000.77929687500000000    16515633228326.86523437500000000    1e-05\n",
            "        18    27674797653113.39843750000000000    39454012712114.17968750000000000    1e-05\n",
            "        19    -61615862695355.52343750000000000    89290660348468.92187500000000000    1e-05\n",
            "        20    130359057053852.65625000000000000    191974919749208.18750000000000000    1e-05\n",
            "        21    -262732445289764.09375000000000000    393091502343616.75000000000000000    1e-05\n",
            "        22    505582763836395.87500000000000000    768315209126160.00000000000000000    1e-05\n",
            "        23    -930832627138599.12500000000000000    1436415390974995.00000000000000000    1e-05\n",
            "        24    1642744948358267.00000000000000000    2573577575496866.00000000000000000    1e-05\n",
            "        25    -2783808481496342.00000000000000000    4426553429854609.00000000000000000    1e-05\n",
            "        26    4537029883263204.00000000000000000    7320838364759546.00000000000000000    1e-05\n",
            "        27    -7122083068020518.00000000000000000    11659112951283722.00000000000000000    1e-05\n",
            "        28    10782983250022340.00000000000000000    17905066318042858.00000000000000000    1e-05\n",
            "        29    -15765908187075692.00000000000000000    26548891437098032.00000000000000000    1e-05\n",
            "        30    22287502872764820.00000000000000000    38053411059840512.00000000000000000    1e-05\n",
            "        31    -30496260855401052.00000000000000000    52783763728165872.00000000000000000    1e-05\n",
            "        32    40431921654321840.00000000000000000    70928182509722888.00000000000000000    1e-05\n",
            "        33    -51989649494711008.00000000000000000    92421571149032848.00000000000000000    1e-05\n",
            "        34    64896455193771712.00000000000000000    116886104688482720.00000000000000000    1e-05\n",
            "        35    -78706473423507072.00000000000000000    143602928617278784.00000000000000000    1e-05\n",
            "        36    92819246869353696.00000000000000000    171525720292860768.00000000000000000    1e-05\n",
            "        37    -106521455092619616.00000000000000000    199340701961973312.00000000000000000    1e-05\n",
            "        38    119048286601192288.00000000000000000    225569741693811904.00000000000000000    1e-05\n",
            "        39    -129656813215061888.00000000000000000    248705099816254176.00000000000000000    1e-05\n",
            "        40    137701169087411328.00000000000000000    267357982302473216.00000000000000000    1e-05\n",
            "        41    -142698666010304480.00000000000000000    280399835097715808.00000000000000000    1e-05\n",
            "        42    144377355637356960.00000000000000000    287076021647661440.00000000000000000    1e-05\n",
            "        43    -142698666010304480.00000000000000000    287076021647661440.00000000000000000    1e-05\n",
            "        44    137852900599910112.00000000000000000    280551566610214592.00000000000000000    1e-05\n",
            "        45    -130229707494294944.00000000000000000    268082608094205056.00000000000000000    1e-05\n",
            "        46    120369252245940224.00000000000000000    250598959740235168.00000000000000000    1e-05\n",
            "        47    -108902136452572800.00000000000000000    229271388698513024.00000000000000000    1e-05\n",
            "        48    96486815923178432.00000000000000000    205388952375751232.00000000000000000    1e-05\n",
            "        49    -83752468814725728.00000000000000000    180239284737904160.00000000000000000    1e-05\n",
            "        50    71253316059871840.00000000000000000    155005784874597568.00000000000000000    1e-05\n",
            "        51    -59437835893220224.00000000000000000    130691151953092064.00000000000000000    1e-05\n",
            "        52    48633693606452064.00000000000000000    108071529499672288.00000000000000000    1e-05\n",
            "        53    -39046981270640544.00000000000000000    87680674877092608.00000000000000000    1e-05\n",
            "        54    30772815390748016.00000000000000000    69819796661388560.00000000000000000    1e-05\n",
            "        55    -23813571089973952.00000000000000000    54586386480721968.00000000000000000    1e-05\n",
            "        56    18100975672008984.00000000000000000    41914546761982936.00000000000000000    1e-05\n",
            "        57    -13518770130890424.00000000000000000    31619745802899408.00000000000000000    1e-05\n",
            "        58    9923455205741896.00000000000000000    23442225336632320.00000000000000000    1e-05\n",
            "        59    -7161556480278270.00000000000000000    17085011686020166.00000000000000000    1e-05\n",
            "        60    5082701894702848.00000000000000000    12244258374981118.00000000000000000    1e-05\n",
            "        61    -3548496631923187.00000000000000000    8631198526626035.00000000000000000    1e-05\n",
            "        62    2437657184930353.00000000000000000    5986153816853540.00000000000000000    1e-05\n",
            "        63    -1648130340858571.00000000000000000    4085787525788924.00000000000000000    1e-05\n",
            "        64    1097008153030862.50000000000000000    2745138493889433.50000000000000000    1e-05\n",
            "        65    -719006542926762.75000000000000000    1816014695957625.25000000000000000    1e-05\n",
            "        66    464154546863811.25000000000000000    1183161089790574.00000000000000000    1e-05\n",
            "        67    -295187645091333.25000000000000000    759342191955144.50000000000000000    1e-05\n",
            "        68    184984623350890.50000000000000000    480172268442223.75000000000000000    1e-05\n",
            "        69    -114253167127596.75000000000000000    299237790478487.25000000000000000    1e-05\n",
            "        70    69564332737759.71875000000000000    183817499865356.46875000000000000    1e-05\n",
            "        71    -41761758729991.37500000000000000    111326091467751.09375000000000000    1e-05\n",
            "        72    24724657007693.30468750000000000    66486415737684.67968750000000000    1e-05\n",
            "        73    -14438574180257.94531250000000000    39163231187951.25000000000000000    1e-05\n",
            "        74    8318438537065.07812500000000000    22757012717323.02343750000000000    1e-05\n",
            "        75    -4728915420866.78906250000000000    13047353957931.86718750000000000    1e-05\n",
            "        76    2653140107963.08300781250000000    7382055528829.87207031250000000    1e-05\n",
            "        77    -1469306486058.79345703125000000    4122446594021.87646484375000000    1e-05\n",
            "        78    803324328594.29248046875000000    2272630814653.08593750000000000    1e-05\n",
            "        79    -433677254064.98217773437500000    1237001582659.27465820312500000    1e-05\n",
            "        80    231211096614.37792968750000000    664888350679.36010742187500000    1e-05\n",
            "        81    -121754324116.64038085937500000    352965420731.01831054687500000    1e-05\n",
            "        82    63337298949.62530517578125000    185091623066.26568603515625000    1e-05\n",
            "        83    -32553541916.03042602539062500    95890840865.65573120117187500    1e-05\n",
            "        84    16533436146.15048217773437500    49086978062.18090820312500000    1e-05\n",
            "        85    -8298799814.71750640869140625    24832235960.86798858642578125    1e-05\n",
            "        86    4117318165.71648788452148438    12416117980.43399429321289062    1e-05\n",
            "        87    -2019383824.61295700073242188    6136701990.32944488525390625    1e-05\n",
            "        88    979231920.66165828704833984    2998615745.27461528778076172    1e-05\n",
            "        89    -469537484.35866141319274902    1448769405.02031970024108887    1e-05\n",
            "        90    222652342.48438024520874023    692189826.84304165840148926    1e-05\n",
            "        91    -104426366.90299111604690552    327078709.38737136125564575    1e-05\n",
            "        92    48447377.70197591185569763    152873744.60496702790260315    1e-05\n",
            "        93    -22236181.63150347769260406    70683559.33347938954830170    1e-05\n",
            "        94    10097786.99976900592446327    32333968.63127248361706734    1e-05\n",
            "        95    -4537588.27543853968381882    14635375.27520754560828209    1e-05\n",
            "        96    2017840.23324817325919867    6555428.50868671294301748    1e-05\n",
            "        97    -888174.46647892612963915    2906014.69972709938883781    1e-05\n",
            "        98    386913.61605439311824739    1275088.08253331924788654    1e-05\n",
            "        99    -166912.52080351323820651    553826.13685790635645390    1e-05\n",
            "       100    71232.71804538648575544    238145.23884889972396195    1e-05\n",
            "       101    -30155.84898929359042086    101388.56703468007617630    1e-05\n",
            "       102    12586.39005473820725456    42742.23904403179767542    1e-05\n",
            "       103    -5257.45731315856392030    17843.84736789677117486    1e-05\n",
            "       104    2120.28727164490828727    7377.74458480347220757    1e-05\n",
            "       105    -901.07479641746613197    3021.36206806237441924    1e-05\n",
            "       106    324.57208024934607238    1225.64687666681220435    1e-05\n",
            "       107    -167.97759915881209736    492.54967940815816974    1e-05\n",
            "       108    28.13014356851013531    196.10774272732223267    1e-05\n",
            "       109    -49.23346136061698530    77.36360492912712061    1e-05\n",
            "       110    -18.99132488832183796    30.24213647229514734    1e-05\n",
            "       111    -30.70674712533707407    11.71542223701523788    1e-05\n",
            "       112    -26.20886180219729766    4.49788532313977818    1e-05\n",
            "       113    -27.92044648268411677    1.71158468048681844    1e-05\n",
            "       114    -27.27484875232505246    0.64559773035906309    1e-05\n",
            "       115    -27.51624616454626704    0.24139741222121489    1e-05\n",
            "       116    -27.42676264105047323    0.08948352349579518    1e-05\n",
            "       117    -27.45964974797627889    0.03288710692580506    1e-05\n",
            "       118    -27.44766546324907708    0.01198428472720015    1e-05\n",
            "       119    -27.45199591907487147    0.00433045582579501    1e-05\n",
            "       120    -27.45044417240396228    0.00155174667090988    1e-05\n",
            "       121    -27.45099561956800471    0.00055144716404235    1e-05\n",
            "       122    -27.45080125704297203    0.00019436252503132    1e-05\n",
            "       123    -27.45086920491757709    0.00006794787460445    1e-05\n",
            "       124    -27.45084564234815616    0.00002356256941928    1e-05\n",
            "       125    -27.45085374787203492    0.00000810552388023    1e-05\n",
            "n =  125\n",
            "x =  -43\n",
            "e_to_x ≈ ∑_{i=0}^125 x^i/i! = -27.450853747872035\n",
            "epsilon = 1e-05\n",
            "math.exp(x) =  2.1151310375910805e-19\n"
          ]
        }
      ]
    },
    {
      "cell_type": "markdown",
      "source": [
        "#  Solution for $x$ negative  and less than  $-9$\n",
        "**Solution** for $e^{-x}$  calculate $e^{x}$ and return $1/e^{x}$\n",
        "\n",
        "$$e^{-x}  = 1/e^{x}  $$"
      ],
      "metadata": {
        "id": "9s4Rl_EojtvV"
      }
    },
    {
      "cell_type": "code",
      "source": [
        "# Returns Min n, |x^{n}/n!| < epsilon and ∑_{i=0}^{n} x^i/i!\n",
        "\n",
        "import math\n",
        "\n",
        "x = - 43\n",
        "epsilon = 10**(-5)\n",
        "\n",
        "xo = x\n",
        "\n",
        "if x < 0 :\n",
        "   x = - x\n",
        "\n",
        "delta = 1\n",
        "e_to_x = 0\n",
        "i = 0\n",
        "\n",
        "print(\"n\".rjust(10),\" \",\"∑_{i=0}^n x^i/i!\".center(20),\" \",\"|x^n/n!|\".center(20),\" \",\"epsilon\".center(9))\n",
        "while  epsilon <= abs(delta):\n",
        "  delta = x**i/math.factorial(i) \n",
        "  e_to_x += delta\n",
        "  print(format(i, '10'),\"  \", format(e_to_x, '.17f'),\"  \",format( abs(delta), '.17f'),\"  \",\"{:.0e}\".format(epsilon)) \n",
        "  i = i+1\n",
        "\n",
        "if x != xo: \n",
        "  e_to_x = 1 / e_to_x\n",
        "  x = xo\n",
        "  \n",
        "print(\"n = \",i-1) \n",
        "print('x = ',x)\n",
        "print('e_to_x ≈ ∑_{i=0}^'+str(i-1),'x^i/i! =',e_to_x)\n",
        "print(\"epsilon =\",\"{:.0e}\".format(epsilon))     \n",
        "print('math.exp(x) = ',math.exp(x))"
      ],
      "metadata": {
        "colab": {
          "base_uri": "https://localhost:8080/"
        },
        "id": "OqMQpI-2wSHE",
        "outputId": "6278c482-cb1c-48da-b2b3-8564a65d7ecc"
      },
      "execution_count": null,
      "outputs": [
        {
          "output_type": "stream",
          "name": "stdout",
          "text": [
            "         n     ∑_{i=0}^n x^i/i!           |x^n/n!|          epsilon \n",
            "         0    1.00000000000000000    1.00000000000000000    1e-05\n",
            "         1    44.00000000000000000    43.00000000000000000    1e-05\n",
            "         2    968.50000000000000000    924.50000000000000000    1e-05\n",
            "         3    14219.66666666666606034    13251.16666666666606034    1e-05\n",
            "         4    156669.70833333331393078    142450.04166666665696539    1e-05\n",
            "         5    1381740.06666666665114462    1225070.35833333339542150    1e-05\n",
            "         6    10161410.96805555559694767    8779670.90138888917863369    1e-05\n",
            "         7    64093675.07658729702234268    53932264.10853174328804016    1e-05\n",
            "         8    353979594.65994542837142944    289885919.58335810899734497    1e-05\n",
            "         9    1738990099.33598995208740234    1385010504.67604446411132812    1e-05\n",
            "        10    7694535269.44298076629638672    5955545170.10699081420898438    1e-05\n",
            "        11    30975302752.58849334716796875    23280767483.14551162719726562    1e-05\n",
            "        12    114398052900.52658081054687500    83422750147.93807983398437500    1e-05\n",
            "        13    390334841851.39868164062500000    275936788950.87213134765625000    1e-05\n",
            "        14    1237854979343.36303710937500000    847520137491.96435546875000000    1e-05\n",
            "        15    3667412706820.32714843750000000    2429557727476.96435546875000000    1e-05\n",
            "        16    10196849099414.66796875000000000    6529436392594.34179687500000000    1e-05\n",
            "        17    26712482327741.53125000000000000    16515633228326.86523437500000000    1e-05\n",
            "        18    66166495039855.71093750000000000    39454012712114.17968750000000000    1e-05\n",
            "        19    155457155388324.62500000000000000    89290660348468.92187500000000000    1e-05\n",
            "        20    347432075137532.81250000000000000    191974919749208.18750000000000000    1e-05\n",
            "        21    740523577481149.50000000000000000    393091502343616.75000000000000000    1e-05\n",
            "        22    1508838786607309.50000000000000000    768315209126160.00000000000000000    1e-05\n",
            "        23    2945254177582304.50000000000000000    1436415390974995.00000000000000000    1e-05\n",
            "        24    5518831753079170.00000000000000000    2573577575496866.00000000000000000    1e-05\n",
            "        25    9945385182933780.00000000000000000    4426553429854609.00000000000000000    1e-05\n",
            "        26    17266223547693326.00000000000000000    7320838364759546.00000000000000000    1e-05\n",
            "        27    28925336498977048.00000000000000000    11659112951283722.00000000000000000    1e-05\n",
            "        28    46830402817019904.00000000000000000    17905066318042858.00000000000000000    1e-05\n",
            "        29    73379294254117936.00000000000000000    26548891437098032.00000000000000000    1e-05\n",
            "        30    111432705313958448.00000000000000000    38053411059840512.00000000000000000    1e-05\n",
            "        31    164216469042124320.00000000000000000    52783763728165872.00000000000000000    1e-05\n",
            "        32    235144651551847200.00000000000000000    70928182509722888.00000000000000000    1e-05\n",
            "        33    327566222700880064.00000000000000000    92421571149032848.00000000000000000    1e-05\n",
            "        34    444452327389362816.00000000000000000    116886104688482720.00000000000000000    1e-05\n",
            "        35    588055256006641664.00000000000000000    143602928617278784.00000000000000000    1e-05\n",
            "        36    759580976299502464.00000000000000000    171525720292860768.00000000000000000    1e-05\n",
            "        37    958921678261475840.00000000000000000    199340701961973312.00000000000000000    1e-05\n",
            "        38    1184491419955287808.00000000000000000    225569741693811904.00000000000000000    1e-05\n",
            "        39    1433196519771542016.00000000000000000    248705099816254176.00000000000000000    1e-05\n",
            "        40    1700554502074015232.00000000000000000    267357982302473216.00000000000000000    1e-05\n",
            "        41    1980954337171730944.00000000000000000    280399835097715808.00000000000000000    1e-05\n",
            "        42    2268030358819392512.00000000000000000    287076021647661440.00000000000000000    1e-05\n",
            "        43    2555106380467054080.00000000000000000    287076021647661440.00000000000000000    1e-05\n",
            "        44    2835657947077268480.00000000000000000    280551566610214592.00000000000000000    1e-05\n",
            "        45    3103740555171473408.00000000000000000    268082608094205056.00000000000000000    1e-05\n",
            "        46    3354339514911708672.00000000000000000    250598959740235168.00000000000000000    1e-05\n",
            "        47    3583610903610221568.00000000000000000    229271388698513024.00000000000000000    1e-05\n",
            "        48    3788999855985972736.00000000000000000    205388952375751232.00000000000000000    1e-05\n",
            "        49    3969239140723876864.00000000000000000    180239284737904160.00000000000000000    1e-05\n",
            "        50    4124244925598474240.00000000000000000    155005784874597568.00000000000000000    1e-05\n",
            "        51    4254936077551566336.00000000000000000    130691151953092064.00000000000000000    1e-05\n",
            "        52    4363007607051238400.00000000000000000    108071529499672288.00000000000000000    1e-05\n",
            "        53    4450688281928331264.00000000000000000    87680674877092608.00000000000000000    1e-05\n",
            "        54    4520508078589720064.00000000000000000    69819796661388560.00000000000000000    1e-05\n",
            "        55    4575094465070441984.00000000000000000    54586386480721968.00000000000000000    1e-05\n",
            "        56    4617009011832424448.00000000000000000    41914546761982936.00000000000000000    1e-05\n",
            "        57    4648628757635323904.00000000000000000    31619745802899408.00000000000000000    1e-05\n",
            "        58    4672070982971956224.00000000000000000    23442225336632320.00000000000000000    1e-05\n",
            "        59    4689155994657976320.00000000000000000    17085011686020166.00000000000000000    1e-05\n",
            "        60    4701400253032956928.00000000000000000    12244258374981118.00000000000000000    1e-05\n",
            "        61    4710031451559582720.00000000000000000    8631198526626035.00000000000000000    1e-05\n",
            "        62    4716017605376436224.00000000000000000    5986153816853540.00000000000000000    1e-05\n",
            "        63    4720103392902224896.00000000000000000    4085787525788924.00000000000000000    1e-05\n",
            "        64    4722848531396114432.00000000000000000    2745138493889433.50000000000000000    1e-05\n",
            "        65    4724664546092071936.00000000000000000    1816014695957625.25000000000000000    1e-05\n",
            "        66    4725847707181862912.00000000000000000    1183161089790574.00000000000000000    1e-05\n",
            "        67    4726607049373817856.00000000000000000    759342191955144.50000000000000000    1e-05\n",
            "        68    4727087221642260480.00000000000000000    480172268442223.75000000000000000    1e-05\n",
            "        69    4727386459432738816.00000000000000000    299237790478487.25000000000000000    1e-05\n",
            "        70    4727570276932603904.00000000000000000    183817499865356.46875000000000000    1e-05\n",
            "        71    4727681603024071680.00000000000000000    111326091467751.09375000000000000    1e-05\n",
            "        72    4727748089439809536.00000000000000000    66486415737684.67968750000000000    1e-05\n",
            "        73    4727787252670997504.00000000000000000    39163231187951.25000000000000000    1e-05\n",
            "        74    4727810009683715072.00000000000000000    22757012717323.02343750000000000    1e-05\n",
            "        75    4727823057037673472.00000000000000000    13047353957931.86718750000000000    1e-05\n",
            "        76    4727830439093201920.00000000000000000    7382055528829.87207031250000000    1e-05\n",
            "        77    4727834561539795968.00000000000000000    4122446594021.87646484375000000    1e-05\n",
            "        78    4727836834170610688.00000000000000000    2272630814653.08593750000000000    1e-05\n",
            "        79    4727838071172193280.00000000000000000    1237001582659.27465820312500000    1e-05\n",
            "        80    4727838736060544000.00000000000000000    664888350679.36010742187500000    1e-05\n",
            "        81    4727839089025965056.00000000000000000    352965420731.01831054687500000    1e-05\n",
            "        82    4727839274117587968.00000000000000000    185091623066.26568603515625000    1e-05\n",
            "        83    4727839370008428544.00000000000000000    95890840865.65573120117187500    1e-05\n",
            "        84    4727839419095406592.00000000000000000    49086978062.18090820312500000    1e-05\n",
            "        85    4727839443927642112.00000000000000000    24832235960.86798858642578125    1e-05\n",
            "        86    4727839456343759872.00000000000000000    12416117980.43399429321289062    1e-05\n",
            "        87    4727839462480461824.00000000000000000    6136701990.32944488525390625    1e-05\n",
            "        88    4727839465479077888.00000000000000000    2998615745.27461528778076172    1e-05\n",
            "        89    4727839466927847424.00000000000000000    1448769405.02031970024108887    1e-05\n",
            "        90    4727839467620037632.00000000000000000    692189826.84304165840148926    1e-05\n",
            "        91    4727839467947116544.00000000000000000    327078709.38737136125564575    1e-05\n",
            "        92    4727839468099990528.00000000000000000    152873744.60496702790260315    1e-05\n",
            "        93    4727839468170674176.00000000000000000    70683559.33347938954830170    1e-05\n",
            "        94    4727839468203008000.00000000000000000    32333968.63127248361706734    1e-05\n",
            "        95    4727839468217643008.00000000000000000    14635375.27520754560828209    1e-05\n",
            "        96    4727839468224198656.00000000000000000    6555428.50868671294301748    1e-05\n",
            "        97    4727839468227104768.00000000000000000    2906014.69972709938883781    1e-05\n",
            "        98    4727839468228379648.00000000000000000    1275088.08253331924788654    1e-05\n",
            "        99    4727839468228933632.00000000000000000    553826.13685790635645390    1e-05\n",
            "       100    4727839468229172224.00000000000000000    238145.23884889972396195    1e-05\n",
            "       101    4727839468229273600.00000000000000000    101388.56703468007617630    1e-05\n",
            "       102    4727839468229316608.00000000000000000    42742.23904403179767542    1e-05\n",
            "       103    4727839468229334016.00000000000000000    17843.84736789677117486    1e-05\n",
            "       104    4727839468229341184.00000000000000000    7377.74458480347220757    1e-05\n",
            "       105    4727839468229344256.00000000000000000    3021.36206806237441924    1e-05\n",
            "       106    4727839468229345280.00000000000000000    1225.64687666681220435    1e-05\n",
            "       107    4727839468229345280.00000000000000000    492.54967940815816974    1e-05\n",
            "       108    4727839468229345280.00000000000000000    196.10774272732223267    1e-05\n",
            "       109    4727839468229345280.00000000000000000    77.36360492912712061    1e-05\n",
            "       110    4727839468229345280.00000000000000000    30.24213647229514734    1e-05\n",
            "       111    4727839468229345280.00000000000000000    11.71542223701523788    1e-05\n",
            "       112    4727839468229345280.00000000000000000    4.49788532313977818    1e-05\n",
            "       113    4727839468229345280.00000000000000000    1.71158468048681844    1e-05\n",
            "       114    4727839468229345280.00000000000000000    0.64559773035906309    1e-05\n",
            "       115    4727839468229345280.00000000000000000    0.24139741222121489    1e-05\n",
            "       116    4727839468229345280.00000000000000000    0.08948352349579518    1e-05\n",
            "       117    4727839468229345280.00000000000000000    0.03288710692580506    1e-05\n",
            "       118    4727839468229345280.00000000000000000    0.01198428472720015    1e-05\n",
            "       119    4727839468229345280.00000000000000000    0.00433045582579501    1e-05\n",
            "       120    4727839468229345280.00000000000000000    0.00155174667090988    1e-05\n",
            "       121    4727839468229345280.00000000000000000    0.00055144716404235    1e-05\n",
            "       122    4727839468229345280.00000000000000000    0.00019436252503132    1e-05\n",
            "       123    4727839468229345280.00000000000000000    0.00006794787460445    1e-05\n",
            "       124    4727839468229345280.00000000000000000    0.00002356256941928    1e-05\n",
            "       125    4727839468229345280.00000000000000000    0.00000810552388023    1e-05\n",
            "n =  125\n",
            "x =  -43\n",
            "e_to_x ≈ ∑_{i=0}^125 x^i/i! = 2.115131037591081e-19\n",
            "epsilon = 1e-05\n",
            "math.exp(x) =  2.1151310375910805e-19\n"
          ]
        }
      ]
    },
    {
      "cell_type": "markdown",
      "source": [
        "# Efficeincy \n",
        "Efficient \n",
        "\n",
        "https://stackoverflow.com/questions/69978341/error-of-taylor-series-ex-for-negative-x\n",
        "\n",
        "$$ \n",
        "\\begin{array}{lll}\n",
        "e^{ x}  & \\approx   &\\sum_{i=0}^{n} \\frac{x^i}{i!}  \\\\\n",
        "        & = & 1 + x + \\frac{x^2}{2!} + \\frac{x^3}{3!} +\\cdots+ \\frac{x^n}{n!}  \\\\\n",
        "       & = &1 + \\left[ 1  * \\frac{x}{1} \\right]  + \\left[  \\left( 1 *  \\frac{x}{1} \\right)  \\frac{x}{2} \\right]+ \\left[ \\left( 1 *  \\frac{x}{1} \\frac{x}{2} \\right) * \\frac{x}{3} \\right]+ \\left[  \\left(1 *  \\frac{x}{1} \\frac{x}{2}   \\frac{x}{3}\\right) * \\frac{x}{4}\\right]  +\\cdots+ \\left[  \\left(1 *  \\frac{x}{1}  \\frac{x}{2} \\cdots  \\frac{x}{n-1} \\right)* \\frac{x}{n} \\right] \\ \\ \\text{ efficient}\n",
        "\\end{array} \n",
        "$$\n",
        "\n",
        "\n",
        "\n",
        "Additions\n",
        "$$ n \\text{ additions } $$\n",
        "\n",
        "Multiplications\n",
        "$$ n \\text{ multiplications } $$\n",
        "\n",
        "Divisions\n",
        "$$ n \\text{ divsions }$$ \n",
        "\n",
        "TOTAL \n",
        "$$ 3n = \\Theta(n) \\text{ FLOPS }$$ "
      ],
      "metadata": {
        "id": "PBe8gYqRwB-Z"
      }
    },
    {
      "cell_type": "code",
      "source": [
        "# Returns Min n, |x^{n}/n!| < epsilon and ∑_{i=0}^{n} x^i/i!\n",
        "\n",
        "import time\n",
        "\n",
        "start = time.time()\n",
        "\n",
        "x = 700\n",
        "epsilon = 10**(-20)\n",
        "\n",
        "xo = x\n",
        "\n",
        "if x < 0 :\n",
        "   x = - x\n",
        "\n",
        "\n",
        "delta = 1\n",
        "e_to_x = 1\n",
        "i = 1\n",
        "\n",
        "while  epsilon <= abs(delta):\n",
        "  delta *= x/i \n",
        "  e_to_x += delta\n",
        "  i = i+1\n",
        "\n",
        "if x != xo: \n",
        "  e_to_x = 1 / e_to_x\n",
        "  x = xo\n",
        "\n",
        "end = time.time()\n",
        "\n",
        "print(\"n = \",i-1) \n",
        "print('x = ',x)\n",
        "print('e_to_x ≈ ∑_{i=0}^'+str(i-1),'x^i/i! =',e_to_x)\n",
        "print(\"epsilon =\",\"{:.0e}\".format(epsilon))     \n",
        "print('math.exp(x) = ',math.exp(x))\n",
        "print('time = ',end - start)"
      ],
      "metadata": {
        "colab": {
          "base_uri": "https://localhost:8080/"
        },
        "id": "uqmD3vEUQO8S",
        "outputId": "2a13c9b4-5780-4173-b2a4-7731df80cdf9"
      },
      "execution_count": null,
      "outputs": [
        {
          "output_type": "stream",
          "name": "stdout",
          "text": [
            "n =  1944\n",
            "x =  700\n",
            "e_to_x ≈ ∑_{i=0}^1944 x^i/i! = 1.0142320547350058e+304\n",
            "epsilon = 1e-20\n",
            "math.exp(x) =  1.0142320547350045e+304\n",
            "time =  0.0009696483612060547\n"
          ]
        }
      ]
    },
    {
      "cell_type": "code",
      "source": [
        "# Returns Min n, |x^{n}/n!| < epsilon and ∑_{i=0}^{n} x^i/i!\n",
        "\n",
        "import time\n",
        "\n",
        "start = time.time()\n",
        "\n",
        "x = -700\n",
        "epsilon = 10**(-20)\n",
        "\n",
        "neg = False\n",
        "if x < 0 :\n",
        "  x = abs(x)\n",
        "  neg = True\n",
        "\n",
        "delta = 1\n",
        "e_to_x = 1\n",
        "i = 1\n",
        "\n",
        "while  epsilon <= abs(delta):\n",
        "  delta *= x/i \n",
        "  e_to_x += delta\n",
        "  i = i+1\n",
        "\n",
        "if x != xo: \n",
        "  e_to_x = 1 / e_to_x\n",
        "  x = xo\n",
        "\n",
        "end = time.time()\n",
        "\n",
        "print(\"n = \",i-1) \n",
        "print('x = ',x)\n",
        "print('e_to_x ≈ ∑_{i=0}^'+str(i-1),'x^i/i! =',e_to_x)\n",
        "print(\"epsilon =\",\"{:.0e}\".format(epsilon))     \n",
        "print('math.exp(x) = ',math.exp(x))\n",
        "print('time = ',end - start)"
      ],
      "metadata": {
        "colab": {
          "base_uri": "https://localhost:8080/"
        },
        "id": "4SidsY8ylmM7",
        "outputId": "05e09ec4-32e9-46d0-e18a-bc00f78f6f36"
      },
      "execution_count": null,
      "outputs": [
        {
          "output_type": "stream",
          "name": "stdout",
          "text": [
            "n =  1944\n",
            "x =  700\n",
            "e_to_x ≈ ∑_{i=0}^1944 x^i/i! = 1.0142320547350058e+304\n",
            "epsilon = 1e-20\n",
            "math.exp(x) =  1.0142320547350045e+304\n",
            "time =  0.0009186267852783203\n"
          ]
        }
      ]
    },
    {
      "cell_type": "markdown",
      "source": [
        "Inefficient\n",
        "\n",
        "$$ e^{ x} \\approx \\sum_{i=0}^{n} \\frac{x^i}{i!} =\\sum_{i=0}^{n} \\frac{x**i}{math.factorial(i)}$$\n",
        "\n",
        "Additions\n",
        "$$ n \\text{ additions } $$\n",
        "\n",
        "Multiplications\n",
        "\n",
        "* Powers - exponentiation by squaring\n",
        "$$ x^i = x**i$$\n",
        "\n",
        "<center>\n",
        "<a href=\"https://en.wikipedia.org/wiki/Exponentiation_by_squaring\">https://en.wikipedia.org/wiki/Exponentiation_by_squaring</a>\n",
        "</center>\n",
        "$$\\lg i \\text{ multiplications }$$\n",
        "<center>\n",
        "<a href=\"https://math.stackexchange.com/questions/228744/value-of-summation-of-logn\">https://math.stackexchange.com/questions/228744/value-of-summation-of-logn</a>\n",
        "</center>\n",
        "$$ \\sum_{i=1}^{n}\\lg i \\approx  n \\lg n$$ \n",
        "\n",
        "\n",
        "* Factorials\n",
        "$$math.factorial(i), $$\n",
        "$$  i-1 \\text{ mutiplications }  $$\n",
        "$$ \\sum_{i=1}^{n} i-1 = \\frac{n(n-1)}{2} =  \\frac{1}{2} n^2 - \\frac{1}{2} n\\text{ mutiplications}$$\n",
        "\n",
        "Divisions\n",
        "$$ n-1 \\text{ divsions }$$ \n",
        "\n",
        "TOTAL \n",
        "$$ \\frac{1}{2} n^2 + n \\lg n + \\frac{3}{2} n -1 = \\Theta(n^2) \\text{ FLOPS }$$ "
      ],
      "metadata": {
        "id": "WBlbS2V9Y-IZ"
      }
    },
    {
      "cell_type": "code",
      "source": [
        "# Returns Min n, |x^{n}/n!| < epsilon and ∑_{i=0}^{n} x^i/i!\n",
        "\n",
        "import math\n",
        "import time\n",
        "\n",
        "start = time.time()\n",
        "\n",
        "x = 700\n",
        "epsilon = 10**(-20)\n",
        "\n",
        "xo = x\n",
        "\n",
        "if x < 0 :\n",
        "   x = - x\n",
        "\n",
        "delta = 1\n",
        "e_to_x = 0\n",
        "i = 0\n",
        "while  epsilon <= abs(delta):\n",
        "  delta = x**i/math.factorial(i) \n",
        "  e_to_x += delta\n",
        "  i = i+1\n",
        "\n",
        "if x != xo: \n",
        "  e_to_x = 1 / e_to_x\n",
        "  x = xo\n",
        "\n",
        "end = time.time()\n",
        "\n",
        "print(\"n = \",i-1) \n",
        "print('x = ',x)\n",
        "print('e_to_x ≈ ∑_{i=0}^'+str(i-1),'x^i/i! =',e_to_x)\n",
        "print(\"epsilon =\",\"{:.0e}\".format(epsilon))     \n",
        "print('math.exp(x) = ',math.exp(x))\n",
        "print('time = ',end - start)"
      ],
      "metadata": {
        "colab": {
          "base_uri": "https://localhost:8080/"
        },
        "id": "_w6F5Vv6P1TA",
        "outputId": "082d94ad-1063-4855-9bbd-364364b84f79"
      },
      "execution_count": null,
      "outputs": [
        {
          "output_type": "stream",
          "name": "stdout",
          "text": [
            "n =  1944\n",
            "x =  700\n",
            "e_to_x ≈ ∑_{i=0}^1944 x^i/i! = 1.0142320547350051e+304\n",
            "epsilon = 1e-20\n",
            "math.exp(x) =  1.0142320547350045e+304\n",
            "time =  0.31804466247558594\n"
          ]
        }
      ]
    },
    {
      "cell_type": "markdown",
      "source": [
        "Inefficient\n",
        "\n",
        "$$ e^{ x} \\approx \\sum_{i=0}^{n} \\frac{x^i}{i!} =  \\sum_{i=1}^{n} \\frac{\\overset{i\\ times}{x*x*\\cdots*x}}{1*2*\\cdots*i}$$\n",
        "\n",
        "> Indented block\n",
        "\n",
        "\n",
        "\n",
        "Additions\n",
        "$$ n \\text{ additions } $$\n",
        "\n",
        "Multiplications\n",
        "\n",
        "* Powers\n",
        "$$ \\overset{i\\ times}{x*x*\\cdots*x}$$\n",
        "$$i-1 \\text{ multiplications }$$\n",
        "$$ \\sum_{i=1}^{n}\\ i-1 = \\frac{n(n-1)}{2} = \\frac{1}{2} n^2 - \\frac{1}{2} n\\text{ mutiplications}$$\n",
        "\n",
        "* Factorials\n",
        "$$1*2*\\cdots*i$$\n",
        "$$  i-1 \\text{ mutiplications }  $$\n",
        "$$ \\sum_{i=1}^{n} i-1 = \\frac{n(n-1)}{2} = \\frac{1}{2} n^2 - \\frac{1}{2} n\\text{ mutiplications}$$\n",
        "\n",
        "Divisions\n",
        "$$ n-1 \\text{ divsions }$$ \n",
        "\n",
        "TOTAL \n",
        "$$ n^2  + n -1  = \\Theta(n^2) \\text{ FLOPS }$$ "
      ],
      "metadata": {
        "id": "WIOnwq-sTfVa"
      }
    },
    {
      "cell_type": "code",
      "source": [
        "# Returns Min n, |x^{n}/n!| < epsilon and ∑_{i=0}^{n} x^i/i!\n",
        "\n",
        "import time\n",
        "\n",
        "start = time.time()\n",
        "\n",
        "x = 700\n",
        "epsilon = 10**(-20)\n",
        "\n",
        "xo = x\n",
        "\n",
        "if x < 0 :\n",
        "   x = - x\n",
        "\n",
        "delta = 1\n",
        "e_to_x = 1\n",
        "i = 1\n",
        "while  epsilon <= abs(delta):\n",
        "  \n",
        "  x_to_i = 1\n",
        "  fact_of_i = 1\n",
        "  for k in range(1,i+1):\n",
        "      x_to_i *= x\n",
        "      fact_of_i *= k\n",
        "\n",
        "  delta = x_to_i/fact_of_i \n",
        "  e_to_x += delta\n",
        "  i = i+1\n",
        "\n",
        "if x != xo: \n",
        "  e_to_x = 1 / e_to_x\n",
        "  x = xo\n",
        "\n",
        "end = time.time()\n",
        "\n",
        "print(\"n = \",i-1) \n",
        "print('x = ',x)\n",
        "print('e_to_x ≈ ∑_{i=0}^'+str(i-1),'x^i/i! =',e_to_x)\n",
        "print(\"epsilon =\",\"{:.0e}\".format(epsilon))     \n",
        "print('math.exp(x) = ',math.exp(x))\n",
        "print('time = ',end - start)"
      ],
      "metadata": {
        "colab": {
          "base_uri": "https://localhost:8080/"
        },
        "id": "plhAy584UrUw",
        "outputId": "3d773a13-a706-40d0-aeae-577517b68078"
      },
      "execution_count": null,
      "outputs": [
        {
          "output_type": "stream",
          "name": "stdout",
          "text": [
            "n =  1944\n",
            "x =  700\n",
            "e_to_x ≈ ∑_{i=0}^1944 x^i/i! = 1.0142320547350051e+304\n",
            "epsilon = 1e-20\n",
            "math.exp(x) =  1.0142320547350045e+304\n",
            "time =  1.558957576751709\n"
          ]
        }
      ]
    },
    {
      "cell_type": "markdown",
      "metadata": {
        "id": "TxhZ8nnZpvbt"
      },
      "source": [
        "# Error using the Lagrange's formula of the Residual $E_n$\n",
        "\n",
        "* Form: Numerical Analysis Mathematics of Scientific Computing David Kincaid and Ward Cheney and Error estimates in Taylor approximations https://math.dartmouth.edu/~m8s17/ErrorEstimates.pdf\n",
        "\n",
        "## Lagrange's formula of the Residual\n",
        "For the Taylor series for $f(x)$\n",
        "\n",
        "$$ E_n = \\frac{f^{(n+1)}(\\xi)}{(n+1)!}(x-c)^{(n+1)} \\text{ for }  \\xi \\text{ between } c \\text{ and } x $$\n",
        "\n",
        "If you can find a positive real number $M$such that \n",
        "$$\\left|f^{(n+1)}(\\xi)\\right|  \\le M \\text{ for }  \\xi \\text{ between } c \\text{ and } x $$ for all\n",
        " then Lagrange’s formula tells you\n",
        "that\n",
        "$$ \\left| E_n \\right| \\le  \\frac{M}{(n+1)!}\n",
        "\\left|x − c\\right|^{(n+1)} $$\n",
        "\n",
        "For the Taylor series for $f(x) = e^x$ about $c=0$ (Maclaurin) \n",
        "\n",
        "* If $x \\ge 0$ then $f(n+1)(ξ)= e^ξ < e^x$ for any $0 \\le \\xi \\le x$ then \n",
        "\n",
        "$$ \\left|E_n \\right| =  \\left|\\frac{f^{(n+1)}(\\xi)}{(n+1)!}(x-c)^{(n+1)} \\right| = \\left|\\frac{e^\\xi}{(n+1)!}x^{(n+1)} \\right| \\le \\left| \\frac{e^x}{(n+1)!}x^{(n+1)} \\right| $$\n",
        "\n",
        "\n",
        "\n"
      ]
    },
    {
      "cell_type": "markdown",
      "source": [
        "<center>\n",
        "<img src = \"https://raw.githubusercontent.com/gjhernandezp/NM/main/Taylor%20Series/e_to_epsilon.png\" alt = \"e_to_minus_epsilon.png]\">  </img>\n",
        "</center>"
      ],
      "metadata": {
        "id": "jH_Sb6MJ-ouX"
      }
    },
    {
      "cell_type": "markdown",
      "source": [
        "* If $x \\le 0$ then $f(n+1)(ξ)= e^ξ < e^0  = 1$ for any $x \\le \\xi < 0$ then \n",
        "\n",
        "$$ \\left|E_n =\\right| = \\left|\\frac{f^{(n+1)}(\\xi)}{(n+1)!}(x-c)^{(n+1)} \\right| = \\left|\\frac{e^\\xi}{(n+1)!}x^{(n+1)} \\right| \\le  \\left|\\frac{1}{(n+1)!}x^{(n+1)}\\right| $$"
      ],
      "metadata": {
        "id": "q5c6Do4u4-PM"
      }
    },
    {
      "cell_type": "markdown",
      "source": [
        "<center>\n",
        "<img src = \"https://raw.githubusercontent.com/gjhernandezp/NM/main/Taylor%20Series/e_to_minus_epsilon.png\" alt = \"e_to_minus_epsilon.png]\">  </img>\n",
        "</center>\n",
        "\n"
      ],
      "metadata": {
        "id": "xREpo166-2I0"
      }
    },
    {
      "cell_type": "markdown",
      "metadata": {
        "id": "y1fLchcRq-mT"
      },
      "source": [
        "# What is the minimun $n$ for which the error using absolute value of the Lagrange's formula of the Residual $|E_n|$, of the Taylor series for $e^x$ about $0$ (Maclaurin  series), is less than  $\\epsilon$.\n",
        "\n",
        "$$ \\min_{n \\in \\mathbb{N}}|E_n|  < \\epsilon $$\n",
        "\n",
        "this is\n",
        "\n",
        "$$\\min_{n \\in \\mathbb{N}}\\left\\{ \\left|\\frac{e^x}{(n+1)!}x^{(n+1)} \\right| \\right\\} < \\epsilon \\text{ if }  x \\ge 0$$\n",
        "\n",
        "and\n",
        "\n",
        "$$\\min_{n \\in \\mathbb{N}}\\left\\{  \\left|\\frac{1}{(n+1)!}x^{(n+1)} \\right| \\right\\} < \\epsilon \\text{ if }  x < 0$$\n",
        " "
      ]
    },
    {
      "cell_type": "code",
      "metadata": {
        "colab": {
          "base_uri": "https://localhost:8080/"
        },
        "id": "hBLCJ5mUqu4T",
        "outputId": "e78c3590-fd0f-4ec1-c7df-38a14d1f1c23"
      },
      "source": [
        "# Returns Min n, |Lagrange_Residual_n| < epsilon and ∑_{i=0}^{n} x^i/i!\n",
        "\n",
        "import math\n",
        "\n",
        "x = 4\n",
        "epsilon = 10**(-5)\n",
        "\n",
        "e_to_x = 0\n",
        "\n",
        "print(\"n\".rjust(10),\" \",\"∑_{i=0}^n x^i/i!\".center(21),\" \",\"|Lagrange_Residual_n|\".center(20),\" \",\"epsilon\".center(20))\n",
        "error = 1\n",
        "i = 0\n",
        "while  epsilon <= abs(error):\n",
        "  e_to_x +=  x**i/math.factorial(i)\n",
        "  if ( x >= 0 ):\n",
        "     error = math.exp(x) * x**(i+1)/ math.factorial(i+1) \n",
        "  else:\n",
        "     error = x**(i+1)/ math.factorial(i+1)\n",
        "  print(format(i, '10'),\"  \", format(e_to_x, '.17f'),\"  \",format(error, '.17f'),\"  \",\"{:.0e}\".format(epsilon)) \n",
        "  i = i+1\n",
        "  \n",
        "print(\"n = \",i-1) \n",
        "print('x = ',x)\n",
        "print('e_to_x ≈ ∑_{i=0}^'+str(i-1),'x^i/i! =',e_to_x)\n",
        "print(\"epsilon =\",\"{:.0e}\".format(epsilon))   \n",
        "print('math.exp(x) = ',math.exp(x))"
      ],
      "execution_count": null,
      "outputs": [
        {
          "output_type": "stream",
          "name": "stdout",
          "text": [
            "         n      ∑_{i=0}^n x^i/i!     |Lagrange_Residual_n|         epsilon       \n",
            "         0    1.00000000000000000    218.39260013257694482    1e-05\n",
            "         1    5.00000000000000000    436.78520026515388963    1e-05\n",
            "         2    13.00000000000000000    582.38026702020522407    1e-05\n",
            "         3    23.66666666666666430    582.38026702020522407    1e-05\n",
            "         4    34.33333333333332860    465.90421361616415652    1e-05\n",
            "         5    42.86666666666666003    310.60280907744277101    1e-05\n",
            "         6    48.55555555555555003    177.48731947282442434    1e-05\n",
            "         7    51.80634920634920348    88.74365973641221217    1e-05\n",
            "         8    53.43174603174603021    39.44162654951654190    1e-05\n",
            "         9    54.15414462081128733    15.77665061980661676    1e-05\n",
            "        10    54.44310405643739159    5.73696386174786088    1e-05\n",
            "        11    54.54818021484688018    1.91232128724928696    1e-05\n",
            "        12    54.58320560098337637    0.58840654992285746    1e-05\n",
            "        13    54.59398264287153069    0.16811615712081643    1e-05\n",
            "        14    54.59706179769671763    0.04483097523221771    1e-05\n",
            "        15    54.59788290565010271    0.01120774380805443    1e-05\n",
            "        16    54.59808818263844898    0.00263711619013045    1e-05\n",
            "        17    54.59813648310629475    0.00058602582002899    1e-05\n",
            "        18    54.59814721654359460    0.00012337385684821    1e-05\n",
            "        19    54.59814947621460846    0.00002467477136964    1e-05\n",
            "        20    54.59814992814881407    0.00000469995645136    1e-05\n",
            "n =  20\n",
            "x =  4\n",
            "e_to_x ≈ ∑_{i=0}^20 x^i/i! = 54.598149928148814\n",
            "epsilon = 1e-05\n",
            "math.exp(x) =  54.598150033144236\n"
          ]
        }
      ]
    },
    {
      "cell_type": "code",
      "source": [
        "# Returns Min n, |Lagrange Residual| < epsilon and ∑_{i=0}^{n} x^i/i!\n",
        "\n",
        "import math\n",
        "\n",
        "x  = -4\n",
        "epsilon = 10**(-5)\n",
        "\n",
        "e_to_x = 0\n",
        "\n",
        "print(\"n\".rjust(10),\" \",\"∑_{i=0}^n x^i/i!\".center(21),\" \",\"|Lagrange_Residual_n|\".center(20),\" \",\"epsilon\".center(20))\n",
        "error = 1\n",
        "i = 0\n",
        "while  epsilon <= abs(error):\n",
        "  e_to_x +=  x**i/math.factorial(i)\n",
        "  if ( x >= 0 ):\n",
        "     error = math.exp(x) * x**(i+1)/ math.factorial(i+1) \n",
        "  else:\n",
        "     error = x**(i+1)/ math.factorial(i+1)\n",
        "  print(format(i, '10'),\"  \", format(e_to_x, '.17f'),\"  \",format(error, '.17f'),\"  \",\"{:.0e}\".format(epsilon)) \n",
        "  i = i+1\n",
        "  \n",
        "print(\"n = \",i-1) \n",
        "print('x = ',x)\n",
        "print('e_to_x ≈ ∑_{i=0}^'+str(i-1),'x^i/i! =',e_to_x)\n",
        "print(\"epsilon =\",\"{:.0e}\".format(epsilon))   \n",
        "print('math.exp(x) = ',math.exp(x))"
      ],
      "metadata": {
        "colab": {
          "base_uri": "https://localhost:8080/"
        },
        "id": "EzCCSnD15R0X",
        "outputId": "5b4e56a5-94f0-4a0e-ade6-ffb31e826a2e"
      },
      "execution_count": null,
      "outputs": [
        {
          "output_type": "stream",
          "name": "stdout",
          "text": [
            "         n      ∑_{i=0}^n x^i/i!     |Lagrange_Residual_n|         epsilon       \n",
            "         0    1.00000000000000000    -4.00000000000000000    1e-05\n",
            "         1    -3.00000000000000000    8.00000000000000000    1e-05\n",
            "         2    5.00000000000000000    -10.66666666666666607    1e-05\n",
            "         3    -5.66666666666666607    10.66666666666666607    1e-05\n",
            "         4    5.00000000000000000    -8.53333333333333321    1e-05\n",
            "         5    -3.53333333333333321    5.68888888888888911    1e-05\n",
            "         6    2.15555555555555589    -3.25079365079365079    1e-05\n",
            "         7    -1.09523809523809490    1.62539682539682540    1e-05\n",
            "         8    0.53015873015873050    -0.72239858906525578    1e-05\n",
            "         9    -0.19223985890652528    0.28895943562610227    1e-05\n",
            "        10    0.09671957671957698    -0.10507615840949175    1e-05\n",
            "        11    -0.00835658168991477    0.03502538613649725    1e-05\n",
            "        12    0.02666880444658248    -0.01077704188815300    1e-05\n",
            "        13    0.01589176255842949    0.00307915482518657    1e-05\n",
            "        14    0.01897091738361606    -0.00082110795338309    1e-05\n",
            "        15    0.01814980943023297    0.00020527698834577    1e-05\n",
            "        16    0.01835508641857874    -0.00004830046784606    1e-05\n",
            "        17    0.01830678595073268    0.00001073343729913    1e-05\n",
            "        18    0.01831751938803181    -0.00000225967101034    1e-05\n",
            "n =  18\n",
            "x =  -4\n",
            "e_to_x ≈ ∑_{i=0}^18 x^i/i! = 0.018317519388031805\n",
            "epsilon = 1e-05\n",
            "math.exp(x) =  0.01831563888873418\n"
          ]
        }
      ]
    },
    {
      "cell_type": "markdown",
      "source": [
        "#  Sympy\n",
        "\n",
        "Taylor Series Expansion with Python from Data Science Fabric\n",
        "\n",
        "https://dsfabric.org/taylor-series-expansion-with-python"
      ],
      "metadata": {
        "id": "cx2-LoLzahoa"
      }
    },
    {
      "cell_type": "code",
      "source": [
        "from sympy import series, Symbol, pi, E, N\n",
        "from sympy.functions import exp\n",
        "from sympy.plotting import plot\n",
        "import matplotlib.pyplot as plt"
      ],
      "metadata": {
        "id": "hGQPpZ8gaVWN"
      },
      "execution_count": null,
      "outputs": []
    },
    {
      "cell_type": "code",
      "source": [
        "# Define symbol\n",
        "x = Symbol('x')"
      ],
      "metadata": {
        "id": "qiHCCJ3napkY"
      },
      "execution_count": null,
      "outputs": []
    },
    {
      "cell_type": "code",
      "source": [
        "# Function for Taylor Series Expansion\n",
        "\n",
        "def taylor(function, x0, n):\n",
        "    \"\"\"\n",
        "    Parameter \"function\" is our function which we want to approximate\n",
        "    \"x0\" is the point where to approximate\n",
        "    \"n\" is the order of approximation\n",
        "    \"\"\"\n",
        "    return function.series(x,x0,n)"
      ],
      "metadata": {
        "id": "z9fkRjbJatry"
      },
      "execution_count": null,
      "outputs": []
    },
    {
      "cell_type": "code",
      "source": [
        "print('e(x)  ≅')\n",
        "taylor(exp(x), 0, 8)"
      ],
      "metadata": {
        "colab": {
          "base_uri": "https://localhost:8080/",
          "height": 72
        },
        "id": "bEtq3o7Waym6",
        "outputId": "5070e283-d245-4c75-820f-7518728f48e4"
      },
      "execution_count": null,
      "outputs": [
        {
          "output_type": "stream",
          "name": "stdout",
          "text": [
            "e(x)  ≅\n"
          ]
        },
        {
          "output_type": "execute_result",
          "data": {
            "text/plain": [
              "1 + x + x**2/2 + x**3/6 + x**4/24 + x**5/120 + x**6/720 + x**7/5040 + O(x**8)"
            ],
            "text/latex": "$\\displaystyle 1 + x + \\frac{x^{2}}{2} + \\frac{x^{3}}{6} + \\frac{x^{4}}{24} + \\frac{x^{5}}{120} + \\frac{x^{6}}{720} + \\frac{x^{7}}{5040} + O\\left(x^{8}\\right)$"
          },
          "metadata": {},
          "execution_count": 22
        }
      ]
    },
    {
      "cell_type": "code",
      "source": [
        "print('e(x) ≅', taylor(exp(x), 0, 8))"
      ],
      "metadata": {
        "colab": {
          "base_uri": "https://localhost:8080/"
        },
        "id": "VU2Q0vuYa_xQ",
        "outputId": "05aabb4f-5eff-4f30-8c09-1d3312de023c"
      },
      "execution_count": null,
      "outputs": [
        {
          "output_type": "stream",
          "name": "stdout",
          "text": [
            "e(x) ≅ 1 + x + x**2/2 + x**3/6 + x**4/24 + x**5/120 + x**6/720 + x**7/5040 + O(x**8)\n"
          ]
        }
      ]
    },
    {
      "cell_type": "code",
      "source": [
        "print('e(x) ≅ at around 1')\n",
        "taylor(exp(x), 1, 8)"
      ],
      "metadata": {
        "colab": {
          "base_uri": "https://localhost:8080/",
          "height": 75
        },
        "id": "iX0DNQdrbtdY",
        "outputId": "1c7fa090-fafc-422e-c4e5-b1af6c15569a"
      },
      "execution_count": null,
      "outputs": [
        {
          "output_type": "stream",
          "name": "stdout",
          "text": [
            "e(x) ≅ at around 1\n"
          ]
        },
        {
          "output_type": "execute_result",
          "data": {
            "text/plain": [
              "E + E*(x - 1) + E*(x - 1)**2/2 + E*(x - 1)**3/6 + E*(x - 1)**4/24 + E*(x - 1)**5/120 + E*(x - 1)**6/720 + E*(x - 1)**7/5040 + O((x - 1)**8, (x, 1))"
            ],
            "text/latex": "$\\displaystyle e + e \\left(x - 1\\right) + \\frac{e \\left(x - 1\\right)^{2}}{2} + \\frac{e \\left(x - 1\\right)^{3}}{6} + \\frac{e \\left(x - 1\\right)^{4}}{24} + \\frac{e \\left(x - 1\\right)^{5}}{120} + \\frac{e \\left(x - 1\\right)^{6}}{720} + \\frac{e \\left(x - 1\\right)^{7}}{5040} + O\\left(\\left(x - 1\\right)^{8}; x\\rightarrow 1\\right)$"
          },
          "metadata": {},
          "execution_count": 24
        }
      ]
    },
    {
      "cell_type": "code",
      "source": [
        "print('e(1) =', taylor(exp(x), 0, 4).subs(x,1))"
      ],
      "metadata": {
        "colab": {
          "base_uri": "https://localhost:8080/"
        },
        "id": "0sfHK6K4b7KQ",
        "outputId": "127c47b5-7f94-4f1d-e8c0-74a0b551f0be"
      },
      "execution_count": null,
      "outputs": [
        {
          "output_type": "stream",
          "name": "stdout",
          "text": [
            "e(1) = O(1)\n"
          ]
        }
      ]
    },
    {
      "cell_type": "code",
      "source": [
        "print('e(1) =', N(taylor(exp(x), 0, 4).subs(x,1)))"
      ],
      "metadata": {
        "colab": {
          "base_uri": "https://localhost:8080/"
        },
        "id": "t64ikINpcL-v",
        "outputId": "a074db75-bc80-4eb1-fd64-959469aba594"
      },
      "execution_count": null,
      "outputs": [
        {
          "output_type": "stream",
          "name": "stdout",
          "text": [
            "e(1) = O(1)\n"
          ]
        }
      ]
    },
    {
      "cell_type": "code",
      "source": [
        "print('Taylor 0 exp(x) ≅', taylor(exp(x), 0, 0))\n",
        "print('Taylor 1 exp(x) ≅', taylor(exp(x), 0, 1))\n",
        "print('Taylor 2 exp(x) ≅', taylor(exp(x), 0, 2))\n",
        "print('Taylor 3 exp(x) ≅', taylor(exp(x), 0, 3))\n",
        "print('Taylor 4 exp(x) ≅', taylor(exp(x), 0, 4))\n",
        "print('Taylor 5 exp(x) ≅', taylor(exp(x), 0, 5))\n",
        "print('Taylor 6 exp(x) ≅', taylor(exp(x), 0, 6))\n",
        "print('Taylor 7 exp(x) ≅', taylor(exp(x), 0, 7))\n",
        "print('Taylor 8 exp(x) ≅', taylor(exp(x), 0, 8))"
      ],
      "metadata": {
        "colab": {
          "base_uri": "https://localhost:8080/"
        },
        "id": "ytUFqliacVnQ",
        "outputId": "5103ddc9-10ca-42bf-be41-6733f63d17bc"
      },
      "execution_count": null,
      "outputs": [
        {
          "output_type": "stream",
          "name": "stdout",
          "text": [
            "Taylor 0 exp(x) ≅ O(1)\n",
            "Taylor 1 exp(x) ≅ 1 + O(x)\n",
            "Taylor 2 exp(x) ≅ 1 + x + O(x**2)\n",
            "Taylor 3 exp(x) ≅ 1 + x + x**2/2 + O(x**3)\n",
            "Taylor 4 exp(x) ≅ 1 + x + x**2/2 + x**3/6 + O(x**4)\n",
            "Taylor 5 exp(x) ≅ 1 + x + x**2/2 + x**3/6 + x**4/24 + O(x**5)\n",
            "Taylor 6 exp(x) ≅ 1 + x + x**2/2 + x**3/6 + x**4/24 + x**5/120 + O(x**6)\n",
            "Taylor 7 exp(x) ≅ 1 + x + x**2/2 + x**3/6 + x**4/24 + x**5/120 + x**6/720 + O(x**7)\n",
            "Taylor 8 exp(x) ≅ 1 + x + x**2/2 + x**3/6 + x**4/24 + x**5/120 + x**6/720 + x**7/5040 + O(x**8)\n"
          ]
        }
      ]
    },
    {
      "cell_type": "code",
      "source": [
        "print('Taylor 0 exp(x) ≅', taylor(exp(x), 0, 0).subs(x,1))\n",
        "print('Taylor 1 exp(x) ≅', taylor(exp(x), 0, 1).subs(x,1))\n",
        "print('Taylor 2 exp(x) ≅', taylor(exp(x), 0, 2).subs(x,1))\n",
        "print('Taylor 3 exp(x) ≅', taylor(exp(x), 0, 3).subs(x,1))\n",
        "print('Taylor 4 exp(x) ≅', taylor(exp(x), 0, 4).subs(x,1))\n",
        "print('Taylor 5 exp(x) ≅', taylor(exp(x), 0, 5).subs(x,1))\n",
        "print('Taylor 6 exp(x) ≅', taylor(exp(x), 0, 6).subs(x,1))\n",
        "print('Taylor 7 exp(x) ≅', taylor(exp(x), 0, 7).subs(x,1))\n",
        "print('Taylor 8 exp(x) ≅', taylor(exp(x), 0, 8).subs(x,1))"
      ],
      "metadata": {
        "colab": {
          "base_uri": "https://localhost:8080/"
        },
        "id": "iGvi9RgacapA",
        "outputId": "3f0944a8-c0c9-4ac2-931b-5eec44e7e870"
      },
      "execution_count": null,
      "outputs": [
        {
          "output_type": "stream",
          "name": "stdout",
          "text": [
            "Taylor 0 exp(x) ≅ O(1)\n",
            "Taylor 1 exp(x) ≅ O(1)\n",
            "Taylor 2 exp(x) ≅ O(1)\n",
            "Taylor 3 exp(x) ≅ O(1)\n",
            "Taylor 4 exp(x) ≅ O(1)\n",
            "Taylor 5 exp(x) ≅ O(1)\n",
            "Taylor 6 exp(x) ≅ O(1)\n",
            "Taylor 7 exp(x) ≅ O(1)\n",
            "Taylor 8 exp(x) ≅ O(1)\n"
          ]
        }
      ]
    },
    {
      "cell_type": "code",
      "source": [
        "print('Taylor 0 exp(x) ≅', N(taylor(exp(x), 0, 0).subs(x,1)))\n",
        "print('Taylor 1 exp(x) ≅', N(taylor(exp(x), 0, 1).subs(x,1)))\n",
        "print('Taylor 2 exp(x) ≅', N(taylor(exp(x), 0, 2).subs(x,1)))\n",
        "print('Taylor 3 exp(x) ≅', N(taylor(exp(x), 0, 3).subs(x,1)))\n",
        "print('Taylor 4 exp(x) ≅', N(taylor(exp(x), 0, 4).subs(x,1)))\n",
        "print('Taylor 5 exp(x) ≅', N(taylor(exp(x), 0, 5).subs(x,1)))\n",
        "print('Taylor 6 exp(x) ≅', N(taylor(exp(x), 0, 6).subs(x,1)))\n",
        "print('Taylor 7 exp(x) ≅', N(taylor(exp(x), 0, 7).subs(x,1)))\n",
        "print('Taylor 8 exp(x) ≅', N(taylor(exp(x), 0, 8).subs(x,1)))"
      ],
      "metadata": {
        "colab": {
          "base_uri": "https://localhost:8080/"
        },
        "id": "N_VVBah_crmQ",
        "outputId": "baf5acd5-c9d1-40cc-8615-871490d0f9c7"
      },
      "execution_count": null,
      "outputs": [
        {
          "output_type": "stream",
          "name": "stdout",
          "text": [
            "Taylor 0 exp(x) ≅ O(1)\n",
            "Taylor 1 exp(x) ≅ O(1)\n",
            "Taylor 2 exp(x) ≅ O(1)\n",
            "Taylor 3 exp(x) ≅ O(1)\n",
            "Taylor 4 exp(x) ≅ O(1)\n",
            "Taylor 5 exp(x) ≅ O(1)\n",
            "Taylor 6 exp(x) ≅ O(1)\n",
            "Taylor 7 exp(x) ≅ O(1)\n",
            "Taylor 8 exp(x) ≅ O(1)\n"
          ]
        }
      ]
    },
    {
      "cell_type": "code",
      "source": [
        "# Function for Taylor Series Expansion\n",
        "\n",
        "def taylor(function, x0, n):\n",
        "    \"\"\"\n",
        "    Parameter \"function\" is our function which we want to approximate\n",
        "    \"x0\" is the point where to approximate\n",
        "    \"n\" is the order of approximation\n",
        "    \"\"\"\n",
        "    return function.series(x,x0,n).removeO()"
      ],
      "metadata": {
        "id": "Gv65YRzdc3qQ"
      },
      "execution_count": null,
      "outputs": []
    },
    {
      "cell_type": "code",
      "source": [
        "print('e(x)  ≅')\n",
        "taylor(exp(x), 0, 8)"
      ],
      "metadata": {
        "colab": {
          "base_uri": "https://localhost:8080/",
          "height": 72
        },
        "id": "EQtZRYJpc5Ro",
        "outputId": "c9e92066-7538-407b-eb8e-947555dfe92b"
      },
      "execution_count": null,
      "outputs": [
        {
          "output_type": "stream",
          "name": "stdout",
          "text": [
            "e(x)  ≅\n"
          ]
        },
        {
          "output_type": "execute_result",
          "data": {
            "text/plain": [
              "x**7/5040 + x**6/720 + x**5/120 + x**4/24 + x**3/6 + x**2/2 + x + 1"
            ],
            "text/latex": "$\\displaystyle \\frac{x^{7}}{5040} + \\frac{x^{6}}{720} + \\frac{x^{5}}{120} + \\frac{x^{4}}{24} + \\frac{x^{3}}{6} + \\frac{x^{2}}{2} + x + 1$"
          },
          "metadata": {},
          "execution_count": 31
        }
      ]
    },
    {
      "cell_type": "code",
      "source": [
        "print('e(x) ≅', taylor(exp(x), 0, 8))"
      ],
      "metadata": {
        "colab": {
          "base_uri": "https://localhost:8080/"
        },
        "id": "DcPjj8PWdBap",
        "outputId": "2e57f32e-a85e-44c7-82b5-b7ec800e9d1b"
      },
      "execution_count": null,
      "outputs": [
        {
          "output_type": "stream",
          "name": "stdout",
          "text": [
            "e(x) ≅ x**7/5040 + x**6/720 + x**5/120 + x**4/24 + x**3/6 + x**2/2 + x + 1\n"
          ]
        }
      ]
    },
    {
      "cell_type": "code",
      "source": [
        "print('e(x) ≅ at around 1')\n",
        "taylor(exp(x), 1, 8)"
      ],
      "metadata": {
        "colab": {
          "base_uri": "https://localhost:8080/",
          "height": 75
        },
        "outputId": "1ef9d6c4-a996-40cc-9b1c-21aeaa35abad",
        "id": "OXZgOve0dS67"
      },
      "execution_count": null,
      "outputs": [
        {
          "output_type": "stream",
          "name": "stdout",
          "text": [
            "e(x) ≅ at around 1\n"
          ]
        },
        {
          "output_type": "execute_result",
          "data": {
            "text/plain": [
              "E*(x - 1)**7/5040 + E*(x - 1)**6/720 + E*(x - 1)**5/120 + E*(x - 1)**4/24 + E*(x - 1)**3/6 + E*(x - 1)**2/2 + E*(x - 1) + E"
            ],
            "text/latex": "$\\displaystyle \\frac{e \\left(x - 1\\right)^{7}}{5040} + \\frac{e \\left(x - 1\\right)^{6}}{720} + \\frac{e \\left(x - 1\\right)^{5}}{120} + \\frac{e \\left(x - 1\\right)^{4}}{24} + \\frac{e \\left(x - 1\\right)^{3}}{6} + \\frac{e \\left(x - 1\\right)^{2}}{2} + e \\left(x - 1\\right) + e$"
          },
          "metadata": {},
          "execution_count": 33
        }
      ]
    },
    {
      "cell_type": "code",
      "source": [
        "print('e(1) =', taylor(exp(x), 0, 4).subs(x,1))"
      ],
      "metadata": {
        "colab": {
          "base_uri": "https://localhost:8080/"
        },
        "outputId": "58353ff8-7896-4ccd-84c4-393f5be694b5",
        "id": "8OvEA2B8dS69"
      },
      "execution_count": null,
      "outputs": [
        {
          "output_type": "stream",
          "name": "stdout",
          "text": [
            "e(1) = 8/3\n"
          ]
        }
      ]
    },
    {
      "cell_type": "code",
      "source": [
        "print('e(1) =', N(taylor(exp(x), 0, 4).subs(x,1)))"
      ],
      "metadata": {
        "colab": {
          "base_uri": "https://localhost:8080/"
        },
        "outputId": "84c04af5-7d27-4a87-cf7d-eb62a93aac1b",
        "id": "HjQaTc7QdS6-"
      },
      "execution_count": null,
      "outputs": [
        {
          "output_type": "stream",
          "name": "stdout",
          "text": [
            "e(1) = 2.66666666666667\n"
          ]
        }
      ]
    },
    {
      "cell_type": "code",
      "source": [
        "print('Taylor 0 exp(x) ≅', taylor(exp(x), 0, 0))\n",
        "print('Taylor 1 exp(x) ≅', taylor(exp(x), 0, 1))\n",
        "print('Taylor 2 exp(x) ≅', taylor(exp(x), 0, 2))\n",
        "print('Taylor 3 exp(x) ≅', taylor(exp(x), 0, 3))\n",
        "print('Taylor 4 exp(x) ≅', taylor(exp(x), 0, 4))\n",
        "print('Taylor 5 exp(x) ≅', taylor(exp(x), 0, 5))\n",
        "print('Taylor 6 exp(x) ≅', taylor(exp(x), 0, 6))\n",
        "print('Taylor 7 exp(x) ≅', taylor(exp(x), 0, 7))\n",
        "print('Taylor 8 exp(x) ≅', taylor(exp(x), 0, 8))"
      ],
      "metadata": {
        "colab": {
          "base_uri": "https://localhost:8080/"
        },
        "outputId": "cda4f841-be1f-4b4f-cd2c-0fc19f39c03a",
        "id": "8H_qhh0OdS6-"
      },
      "execution_count": null,
      "outputs": [
        {
          "output_type": "stream",
          "name": "stdout",
          "text": [
            "Taylor 0 exp(x) ≅ 0\n",
            "Taylor 1 exp(x) ≅ 1\n",
            "Taylor 2 exp(x) ≅ x + 1\n",
            "Taylor 3 exp(x) ≅ x**2/2 + x + 1\n",
            "Taylor 4 exp(x) ≅ x**3/6 + x**2/2 + x + 1\n",
            "Taylor 5 exp(x) ≅ x**4/24 + x**3/6 + x**2/2 + x + 1\n",
            "Taylor 6 exp(x) ≅ x**5/120 + x**4/24 + x**3/6 + x**2/2 + x + 1\n",
            "Taylor 7 exp(x) ≅ x**6/720 + x**5/120 + x**4/24 + x**3/6 + x**2/2 + x + 1\n",
            "Taylor 8 exp(x) ≅ x**7/5040 + x**6/720 + x**5/120 + x**4/24 + x**3/6 + x**2/2 + x + 1\n"
          ]
        }
      ]
    },
    {
      "cell_type": "code",
      "source": [
        "print('Taylor 0 exp(x) ≅', taylor(exp(x), 0, 0).subs(x,1))\n",
        "print('Taylor 1 exp(x) ≅', taylor(exp(x), 0, 1).subs(x,1))\n",
        "print('Taylor 2 exp(x) ≅', taylor(exp(x), 0, 2).subs(x,1))\n",
        "print('Taylor 3 exp(x) ≅', taylor(exp(x), 0, 3).subs(x,1))\n",
        "print('Taylor 4 exp(x) ≅', taylor(exp(x), 0, 4).subs(x,1))\n",
        "print('Taylor 5 exp(x) ≅', taylor(exp(x), 0, 5).subs(x,1))\n",
        "print('Taylor 6 exp(x) ≅', taylor(exp(x), 0, 6).subs(x,1))\n",
        "print('Taylor 7 exp(x) ≅', taylor(exp(x), 0, 7).subs(x,1))\n",
        "print('Taylor 8 exp(x) ≅', taylor(exp(x), 0, 8).subs(x,1))"
      ],
      "metadata": {
        "colab": {
          "base_uri": "https://localhost:8080/"
        },
        "outputId": "3d108b98-d714-409b-aa44-516ef50f86a6",
        "id": "Nlwipl8zdS6_"
      },
      "execution_count": null,
      "outputs": [
        {
          "output_type": "stream",
          "name": "stdout",
          "text": [
            "Taylor 0 exp(x) ≅ 0\n",
            "Taylor 1 exp(x) ≅ 1\n",
            "Taylor 2 exp(x) ≅ 2\n",
            "Taylor 3 exp(x) ≅ 5/2\n",
            "Taylor 4 exp(x) ≅ 8/3\n",
            "Taylor 5 exp(x) ≅ 65/24\n",
            "Taylor 6 exp(x) ≅ 163/60\n",
            "Taylor 7 exp(x) ≅ 1957/720\n",
            "Taylor 8 exp(x) ≅ 685/252\n"
          ]
        }
      ]
    },
    {
      "cell_type": "code",
      "source": [
        "print('Taylor 0 exp(x) ≅', N(taylor(exp(x), 0, 0).subs(x,1)))\n",
        "print('Taylor 1 exp(x) ≅', N(taylor(exp(x), 0, 1).subs(x,1)))\n",
        "print('Taylor 2 exp(x) ≅', N(taylor(exp(x), 0, 2).subs(x,1)))\n",
        "print('Taylor 3 exp(x) ≅', N(taylor(exp(x), 0, 3).subs(x,1)))\n",
        "print('Taylor 4 exp(x) ≅', N(taylor(exp(x), 0, 4).subs(x,1)))\n",
        "print('Taylor 5 exp(x) ≅', N(taylor(exp(x), 0, 5).subs(x,1)))\n",
        "print('Taylor 6 exp(x) ≅', N(taylor(exp(x), 0, 6).subs(x,1)))\n",
        "print('Taylor 7 exp(x) ≅', N(taylor(exp(x), 0, 7).subs(x,1)))\n",
        "print('Taylor 8 exp(x) ≅', N(taylor(exp(x), 0, 8).subs(x,1)))"
      ],
      "metadata": {
        "colab": {
          "base_uri": "https://localhost:8080/"
        },
        "outputId": "e7374605-98e9-4a1a-c874-ff6d0eb609a1",
        "id": "xAotZ1UMdS7A"
      },
      "execution_count": null,
      "outputs": [
        {
          "output_type": "stream",
          "name": "stdout",
          "text": [
            "Taylor 0 exp(x) ≅ 0\n",
            "Taylor 1 exp(x) ≅ 1.00000000000000\n",
            "Taylor 2 exp(x) ≅ 2.00000000000000\n",
            "Taylor 3 exp(x) ≅ 2.50000000000000\n",
            "Taylor 4 exp(x) ≅ 2.66666666666667\n",
            "Taylor 5 exp(x) ≅ 2.70833333333333\n",
            "Taylor 6 exp(x) ≅ 2.71666666666667\n",
            "Taylor 7 exp(x) ≅ 2.71805555555556\n",
            "Taylor 8 exp(x) ≅ 2.71825396825397\n"
          ]
        }
      ]
    },
    {
      "cell_type": "code",
      "source": [
        "import math\n",
        "import numpy as np\n",
        "import matplotlib.pyplot as plt\n",
        "# if using a Jupyter notebook, include:\n",
        "%matplotlib inline\n",
        "\n",
        "values = np.arange(-5,5,0.1)\n",
        "p_exp = np.exp(values)\n",
        "t_exp1 = [taylor(exp(x), 0, 1).subs(x,v) for v in values]\n",
        "legends = ['exp() ','Taylor 0 (constant)']\n",
        "\n",
        "fig, ax = plt.subplots()\n",
        "ax.plot(values,p_exp, color ='red')\n",
        "ax.plot(values,t_exp1)\n",
        "\n",
        "ax.set_ylim([-5,5])\n",
        "ax.axhline(y=0.0, xmin=-5.0, xmax=5.0, color='black')\n",
        "ax.axvline(x=0.0, ymin=-10.0, ymax=10.0, color='black')\n",
        "ax.legend(legends)\n"
      ],
      "metadata": {
        "colab": {
          "base_uri": "https://localhost:8080/",
          "height": 448
        },
        "id": "ckWMJz7_deTZ",
        "outputId": "7d35f263-c10b-40d0-e616-57ff98556354"
      },
      "execution_count": null,
      "outputs": [
        {
          "output_type": "execute_result",
          "data": {
            "text/plain": [
              "<matplotlib.legend.Legend at 0x7f479eae7c10>"
            ]
          },
          "metadata": {},
          "execution_count": 39
        },
        {
          "output_type": "display_data",
          "data": {
            "text/plain": [
              "<Figure size 640x480 with 1 Axes>"
            ],
            "image/png": "[encoded data removed]"
          },
          "metadata": {}
        }
      ]
    },
    {
      "cell_type": "code",
      "source": [],
      "metadata": {
        "id": "WOokw4Updmb7"
      },
      "execution_count": null,
      "outputs": []
    },
    {
      "cell_type": "code",
      "metadata": {
        "colab": {
          "base_uri": "https://localhost:8080/",
          "height": 430
        },
        "id": "XvqxBhg8O7Oi",
        "outputId": "ebe7c195-d8ad-4f2d-8a94-17033dae9432"
      },
      "source": [
        "import math\n",
        "import numpy as np\n",
        "import matplotlib.pyplot as plt\n",
        "# if using a Jupyter notebook, include:\n",
        "%matplotlib inline\n",
        "\n",
        "values = np.arange(-5,5,0.1)\n",
        "p_exp = np.exp(values)\n",
        "t_exp2 = [taylor(exp(x), 0, 2).subs(x,v) for v in values]\n",
        "legends = ['exp() ','Taylor 1 (linear)']\n",
        "\n",
        "fig, ax = plt.subplots()\n",
        "ax.plot(values,p_exp, color ='red')\n",
        "ax.plot(values,t_exp2)\n",
        "\n",
        "ax.set_ylim([-5,5])\n",
        "ax.axhline(y=0.0, xmin=-5.0, xmax=5.0, color='black')\n",
        "ax.axvline(x=0.0, ymin=-10.0, ymax=10.0, color='black')\n",
        "ax.legend(legends)\n",
        "\n",
        "plt.show()"
      ],
      "execution_count": null,
      "outputs": [
        {
          "output_type": "display_data",
          "data": {
            "text/plain": [
              "<Figure size 640x480 with 1 Axes>"
            ],
            "image/png": "[encoded data removed]"
          },
          "metadata": {}
        }
      ]
    },
    {
      "cell_type": "code",
      "metadata": {
        "colab": {
          "base_uri": "https://localhost:8080/",
          "height": 430
        },
        "id": "PLR1O9HUPFwg",
        "outputId": "7659856f-b367-43c5-a15a-3cf3dd9f7db2"
      },
      "source": [
        "import math\n",
        "import numpy as np\n",
        "import matplotlib.pyplot as plt\n",
        "# if using a Jupyter notebook, include:\n",
        "%matplotlib inline\n",
        "\n",
        "values = np.arange(-5,5,0.1)\n",
        "p_exp = np.exp(values)\n",
        "t_exp3 = [taylor(exp(x), 0, 3).subs(x,v) for v in values]\n",
        "legends = ['exp() ','Taylor 2 (quadratic)']\n",
        "\n",
        "fig, ax = plt.subplots()\n",
        "ax.plot(values,p_exp, color ='red')\n",
        "ax.plot(values,t_exp3)\n",
        "\n",
        "ax.set_ylim([-5,5])\n",
        "ax.axhline(y=0.0, xmin=-5.0, xmax=5.0, color='black')\n",
        "ax.axvline(x=0.0, ymin=-10.0, ymax=10.0, color='black')\n",
        "ax.legend(legends)\n",
        "\n",
        "plt.show()"
      ],
      "execution_count": null,
      "outputs": [
        {
          "output_type": "display_data",
          "data": {
            "text/plain": [
              "<Figure size 640x480 with 1 Axes>"
            ],
            "image/png": "[encoded data removed]"
          },
          "metadata": {}
        }
      ]
    },
    {
      "cell_type": "code",
      "metadata": {
        "colab": {
          "base_uri": "https://localhost:8080/",
          "height": 430
        },
        "id": "Z9AEeR_BPJCA",
        "outputId": "e2bb2b33-1710-4247-9ed7-6031c754fdcd"
      },
      "source": [
        "import math\n",
        "import numpy as np\n",
        "import matplotlib.pyplot as plt\n",
        "# if using a Jupyter notebook, include:\n",
        "%matplotlib inline\n",
        "\n",
        "values = np.arange(-5,5,0.1)\n",
        "p_exp = np.exp(values)\n",
        "t_exp4 = [taylor(exp(x), 0, 4).subs(x,v) for v in values]\n",
        "legends = ['exp() ','Taylor 3 (cubic)']\n",
        "\n",
        "fig, ax = plt.subplots()\n",
        "ax.plot(values,p_exp, color ='red')\n",
        "ax.plot(values,t_exp4)\n",
        "\n",
        "ax.set_ylim([-5,5])\n",
        "ax.axhline(y=0.0, xmin=-5.0, xmax=5.0, color='black')\n",
        "ax.axvline(x=0.0, ymin=-10.0, ymax=10.0, color='black')\n",
        "ax.legend(legends)\n",
        "\n",
        "plt.show()"
      ],
      "execution_count": null,
      "outputs": [
        {
          "output_type": "display_data",
          "data": {
            "text/plain": [
              "<Figure size 640x480 with 1 Axes>"
            ],
            "image/png": "[encoded data removed]"
          },
          "metadata": {}
        }
      ]
    },
    {
      "cell_type": "code",
      "metadata": {
        "id": "vLO9icMdPMmg",
        "colab": {
          "base_uri": "https://localhost:8080/",
          "height": 430
        },
        "outputId": "23b4177a-3b83-450b-d889-dd4689ddf7af"
      },
      "source": [
        "import math\n",
        "import numpy as np\n",
        "import matplotlib.pyplot as plt\n",
        "# if using a Jupyter notebook, include:\n",
        "%matplotlib inline\n",
        "\n",
        "values = np.arange(-5,5,0.1)\n",
        "p_exp = np.exp(values)\n",
        "t_exp1 = [taylor(exp(x), 0, 1).subs(x,v) for v in values]\n",
        "t_exp2 = [taylor(exp(x), 0, 2).subs(x,v) for v in values]\n",
        "t_exp3 = [taylor(exp(x), 0, 3).subs(x,v) for v in values]\n",
        "t_exp4 = [taylor(exp(x), 0, 4).subs(x,v) for v in values]\n",
        "legends = ['exp() ','Taylor 0 (constant)','Taylor 1 (linear)','Taylor 2 (quadratic)','Taylor 3 (cubic)']\n",
        "\n",
        "fig, ax = plt.subplots()\n",
        "ax.plot(values,p_exp)\n",
        "ax.plot(values,t_exp1)\n",
        "ax.plot(values,t_exp2)\n",
        "ax.plot(values,t_exp3)\n",
        "ax.plot(values,t_exp4)\n",
        "\n",
        "ax.set_ylim([-5,5])\n",
        "ax.axhline(y=0.0, xmin=-5.0, xmax=5.0, color='black')\n",
        "ax.axvline(x=0.0, ymin=-10.0, ymax=10.0, color='black')\n",
        "ax.legend(legends)\n",
        "\n",
        "plt.show()"
      ],
      "execution_count": null,
      "outputs": [
        {
          "output_type": "display_data",
          "data": {
            "text/plain": [
              "<Figure size 640x480 with 1 Axes>"
            ],
            "image/png": "[encoded data removed]"
          },
          "metadata": {}
        }
      ]
    },
    {
      "cell_type": "markdown",
      "source": [
        "Reproducing the Taylor Series for 5.18 (ln (66) +1)"
      ],
      "metadata": {
        "id": "KBllEduagxDD"
      }
    },
    {
      "cell_type": "code",
      "source": [
        "import math\n",
        "import numpy as np\n",
        "import matplotlib.pyplot as plt\n",
        "\n",
        "# if using a Jupyter notebook, include:\n",
        "%matplotlib inline\n",
        "\n",
        "def func_cos(angle, n):\n",
        "    return sum((-1) ** i * angle ** (2 * i) / math.factorial(2 * i) for i in range(n))\n",
        "\n",
        "angles = np.arange(-2 * np.pi, 2 * np.pi, 0.1)\n",
        "p_cos = np.cos(angles)\n",
        "\n",
        "fig, ax = plt.subplots()\n",
        "ax.plot(angles, p_cos)\n",
        "\n",
        "# add lines for between 1 and 6 terms in the Taylor Series\n",
        "for i in range(1, 6):\n",
        "    t_cos = [func_cos(angle, i) for angle in angles]\n",
        "    ax.plot(angles, t_cos)\n",
        "\n",
        "ax.set_ylim([-7, 4])\n",
        "\n",
        "# set up legend\n",
        "legend_lst = ['cos() function']\n",
        "for i in range(1, 6):\n",
        "    legend_lst.append(f'Taylor Series - {i} terms')\n",
        "ax.legend(legend_lst, loc=3)\n",
        "\n",
        "plt.show()"
      ],
      "metadata": {
        "colab": {
          "base_uri": "https://localhost:8080/",
          "height": 435
        },
        "id": "b3gt9q3NgwjE",
        "outputId": "c352cd27-ef8b-4b8d-cef1-adcaa990f0a3"
      },
      "execution_count": null,
      "outputs": [
        {
          "output_type": "display_data",
          "data": {
            "text/plain": [
              "<Figure size 640x480 with 1 Axes>"
            ],
            "image/png": "[encoded data removed]"
          },
          "metadata": {}
        }
      ]
    }
  ]
}